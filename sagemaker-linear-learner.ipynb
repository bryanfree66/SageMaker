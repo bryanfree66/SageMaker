{
 "cells": [
  {
   "cell_type": "markdown",
   "metadata": {},
   "source": [
    "# SageMaker Linear Learner Sample"
   ]
  },
  {
   "cell_type": "markdown",
   "metadata": {},
   "source": [
    "## Background"
   ]
  },
  {
   "cell_type": "markdown",
   "metadata": {},
   "source": [
    "Company (3D Technologies) has a fleet of devices transmitting daily aggregated telemetry attributes.\n",
    "\n",
    "Predictive maintenance techniques are designed to help determine the condition of in-service equipment in order to predict when maintenance should be performed. \n",
    "\n",
    "This approach promises cost savings over routine or time-based preventive maintenance, because tasks are\n",
    "performed only when warranted."
   ]
  },
  {
   "cell_type": "markdown",
   "metadata": {},
   "source": [
    "## Scope"
   ]
  },
  {
   "cell_type": "markdown",
   "metadata": {},
   "source": [
    "This work sample is tasked with building a predictive model using machine learning to predict the probability of a device failure. The goal is to to minimize both false positives and false negatives. \n",
    "\n",
    "The column we are attempting to predict is called failure, which has a binary value 0 for non-failure and 1 for failure.\n"
   ]
  },
  {
   "cell_type": "markdown",
   "metadata": {},
   "source": [
    "## Load the data from S3"
   ]
  },
  {
   "cell_type": "code",
   "execution_count": 1,
   "metadata": {},
   "outputs": [],
   "source": [
    "# Load dependencies\n",
    "import boto3, io, re, sys, math, json, os, sagemaker, urllib.request\n",
    "from sagemaker import get_execution_role\n",
    "import sagemaker.amazon.common as smac\n",
    "import numpy as np                                \n",
    "import pandas as pd                               \n",
    "import matplotlib.pyplot as plt                   \n",
    "from IPython.display import Image                 \n",
    "from IPython.display import display               \n",
    "from time import gmtime, strftime                 \n",
    "from sagemaker.predictor import csv_serializer\n",
    "import matplotlib.pyplot as plt\n",
    "import seaborn as sns; sns.set()\n",
    "from sklearn import preprocessing\n",
    "from sagemaker.amazon.amazon_estimator import get_image_uri\n",
    "from sagemaker.predictor import csv_serializer, json_deserializer\n",
    "import warnings\n",
    "from sklearn.exceptions import DataConversionWarning"
   ]
  },
  {
   "cell_type": "code",
   "execution_count": 2,
   "metadata": {},
   "outputs": [],
   "source": [
    "# Initiate SageMaker session\n",
    "s3_bucket = 'sagemaker-bryfreem'\n",
    "prefix = 'bryfreem-work-sample'\n",
    "session = sagemaker.Session()\n",
    "role = get_execution_role()"
   ]
  },
  {
   "cell_type": "code",
   "execution_count": 3,
   "metadata": {},
   "outputs": [],
   "source": [
    "# Read CSV Data into Pandas\n",
    "def read_failure_data(bucket, data_key):\n",
    "    data_location = get_bucket_uri(bucket, data_key)\n",
    "    data = pd.read_csv(data_location, encoding = \"ISO-8859-1\")\n",
    "    # Convert date column into a datetime datatype\n",
    "    data['date'] = pd.to_datetime(data['date'])\n",
    "    return data\n",
    "\n",
    "# Save CSV data to S3\n",
    "def save_failure_data(data, bucket, data_key):\n",
    "    file_name = data_key + \".csv\" \n",
    "    data.to_csv(file_name)\n",
    "    s3 = boto3.resource('s3')\n",
    "    s3.meta.client.upload_file(file_name, bucket, data_key)\n",
    "    \n",
    "# Get bucket URI\n",
    "def get_bucket_uri(bucket, data_key):\n",
    "    return 's3://{}/{}'.format(bucket, data_key)\n",
    "\n",
    "# Normalize the data\n",
    "def scale_column(d, c):\n",
    "    # Supress data conversion warnings\n",
    "    warnings.filterwarnings(action='ignore', category=DataConversionWarning)\n",
    "    x_values = d[c].values\n",
    "    minmax_scaler = preprocessing.MinMaxScaler()\n",
    "    x_scaled = minmax_scaler.fit_transform(x_values.reshape(-1, 1))\n",
    "    result = pd.DataFrame(x_scaled)\n",
    "    return result\n",
    "\n",
    "# Set Barplot Labels\n",
    "def set_barplot_lables(ax):\n",
    "    ax.set_xlabel(\"Failure State\")\n",
    "    ax.set_ylabel(\"Scaled Value\")\n",
    "    return ax\n",
    "\n",
    "# Split data into train and test sets\n",
    "def split_data(d):\n",
    "    mask = np.random.rand(len(d)) < 0.7\n",
    "    train_set = train = d[mask]\n",
    "    test_set = d[~mask]\n",
    "    return train_set, test_set\n",
    "\n",
    "# Convert the data to numpy arrays\n",
    "def convert_data(s):\n",
    "    vectors = np.array(train_set).astype('float32')\n",
    "    vectors = np.delete(vectors, 0, 1)\n",
    "    labels = np.array(train_set['failure']).astype('float32')\n",
    "    return vectors, labels\n",
    "\n",
    "# Upload the training data to s3\n",
    "def upload_training_data(b,key='recordio-failure-data'):\n",
    "    boto3.resource('s3').Bucket(s3_bucket).Object(os.path.join(prefix, 'train', key)).upload_fileobj(b)\n",
    "    return 's3://{}/{}/train/{}'.format(s3_bucket, prefix, key)\n"
   ]
  },
  {
   "cell_type": "markdown",
   "metadata": {},
   "source": [
    "## Exploring the data"
   ]
  },
  {
   "cell_type": "markdown",
   "metadata": {},
   "source": [
    "### Overview"
   ]
  },
  {
   "cell_type": "markdown",
   "metadata": {},
   "source": [
    "Let's load the data and see how many records, unique devices, and failure occurances we have. Let's also see the date range the logs cover."
   ]
  },
  {
   "cell_type": "code",
   "execution_count": 4,
   "metadata": {},
   "outputs": [
    {
     "name": "stdout",
     "output_type": "stream",
     "text": [
      "Row count: 124494\n",
      "Unique devices: 1169\n",
      "Failure occurances: 106\n",
      "Log Start Date: 2015-01-01 00:00:00\n",
      "Log End Date: 2015-11-02 00:00:00\n",
      "Failures occur in 0.08514% of logs.\n"
     ]
    }
   ],
   "source": [
    "df = read_failure_data(s3_bucket, 'device_failure.csv')\n",
    "records = len(df.index)\n",
    "print (\"Row count:\", records)\n",
    "print (\"Unique devices:\", df['device'].nunique())\n",
    "failure_count = df.loc[df.failure == 1, 'failure'].count()\n",
    "print (\"Failure occurances:\", failure_count)\n",
    "print (\"Log Start Date:\", df.date.min())\n",
    "print (\"Log End Date:\", df.date.max())\n",
    "print (\"Failures occur in {:.5%}\".format(failure_count / records), \"of logs.\" )"
   ]
  },
  {
   "cell_type": "markdown",
   "metadata": {},
   "source": [
    "Using the Pandas head method, let's have a first look at the columns in this dataset."
   ]
  },
  {
   "cell_type": "code",
   "execution_count": 5,
   "metadata": {},
   "outputs": [
    {
     "data": {
      "text/html": [
       "<div>\n",
       "<style scoped>\n",
       "    .dataframe tbody tr th:only-of-type {\n",
       "        vertical-align: middle;\n",
       "    }\n",
       "\n",
       "    .dataframe tbody tr th {\n",
       "        vertical-align: top;\n",
       "    }\n",
       "\n",
       "    .dataframe thead th {\n",
       "        text-align: right;\n",
       "    }\n",
       "</style>\n",
       "<table border=\"1\" class=\"dataframe\">\n",
       "  <thead>\n",
       "    <tr style=\"text-align: right;\">\n",
       "      <th></th>\n",
       "      <th>date</th>\n",
       "      <th>device</th>\n",
       "      <th>failure</th>\n",
       "      <th>attribute1</th>\n",
       "      <th>attribute2</th>\n",
       "      <th>attribute3</th>\n",
       "      <th>attribute4</th>\n",
       "      <th>attribute5</th>\n",
       "      <th>attribute6</th>\n",
       "      <th>attribute7</th>\n",
       "      <th>attribute8</th>\n",
       "      <th>attribute9</th>\n",
       "    </tr>\n",
       "  </thead>\n",
       "  <tbody>\n",
       "    <tr>\n",
       "      <th>0</th>\n",
       "      <td>2015-01-01</td>\n",
       "      <td>S1F01085</td>\n",
       "      <td>0</td>\n",
       "      <td>215630672</td>\n",
       "      <td>56</td>\n",
       "      <td>0</td>\n",
       "      <td>52</td>\n",
       "      <td>6</td>\n",
       "      <td>407438</td>\n",
       "      <td>0</td>\n",
       "      <td>0</td>\n",
       "      <td>7</td>\n",
       "    </tr>\n",
       "    <tr>\n",
       "      <th>1</th>\n",
       "      <td>2015-01-01</td>\n",
       "      <td>S1F0166B</td>\n",
       "      <td>0</td>\n",
       "      <td>61370680</td>\n",
       "      <td>0</td>\n",
       "      <td>3</td>\n",
       "      <td>0</td>\n",
       "      <td>6</td>\n",
       "      <td>403174</td>\n",
       "      <td>0</td>\n",
       "      <td>0</td>\n",
       "      <td>0</td>\n",
       "    </tr>\n",
       "    <tr>\n",
       "      <th>2</th>\n",
       "      <td>2015-01-01</td>\n",
       "      <td>S1F01E6Y</td>\n",
       "      <td>0</td>\n",
       "      <td>173295968</td>\n",
       "      <td>0</td>\n",
       "      <td>0</td>\n",
       "      <td>0</td>\n",
       "      <td>12</td>\n",
       "      <td>237394</td>\n",
       "      <td>0</td>\n",
       "      <td>0</td>\n",
       "      <td>0</td>\n",
       "    </tr>\n",
       "    <tr>\n",
       "      <th>3</th>\n",
       "      <td>2015-01-01</td>\n",
       "      <td>S1F01JE0</td>\n",
       "      <td>0</td>\n",
       "      <td>79694024</td>\n",
       "      <td>0</td>\n",
       "      <td>0</td>\n",
       "      <td>0</td>\n",
       "      <td>6</td>\n",
       "      <td>410186</td>\n",
       "      <td>0</td>\n",
       "      <td>0</td>\n",
       "      <td>0</td>\n",
       "    </tr>\n",
       "    <tr>\n",
       "      <th>4</th>\n",
       "      <td>2015-01-01</td>\n",
       "      <td>S1F01R2B</td>\n",
       "      <td>0</td>\n",
       "      <td>135970480</td>\n",
       "      <td>0</td>\n",
       "      <td>0</td>\n",
       "      <td>0</td>\n",
       "      <td>15</td>\n",
       "      <td>313173</td>\n",
       "      <td>0</td>\n",
       "      <td>0</td>\n",
       "      <td>3</td>\n",
       "    </tr>\n",
       "  </tbody>\n",
       "</table>\n",
       "</div>"
      ],
      "text/plain": [
       "        date    device  failure  attribute1  attribute2  attribute3  \\\n",
       "0 2015-01-01  S1F01085        0   215630672          56           0   \n",
       "1 2015-01-01  S1F0166B        0    61370680           0           3   \n",
       "2 2015-01-01  S1F01E6Y        0   173295968           0           0   \n",
       "3 2015-01-01  S1F01JE0        0    79694024           0           0   \n",
       "4 2015-01-01  S1F01R2B        0   135970480           0           0   \n",
       "\n",
       "   attribute4  attribute5  attribute6  attribute7  attribute8  attribute9  \n",
       "0          52           6      407438           0           0           7  \n",
       "1           0           6      403174           0           0           0  \n",
       "2           0          12      237394           0           0           0  \n",
       "3           0           6      410186           0           0           0  \n",
       "4           0          15      313173           0           0           3  "
      ]
     },
     "execution_count": 5,
     "metadata": {},
     "output_type": "execute_result"
    }
   ],
   "source": [
    "df.head()"
   ]
  },
  {
   "cell_type": "markdown",
   "metadata": {},
   "source": [
    "There is a date, a string device name, a binary failure value, and numeric values for each of the 9 attributes. Let's take a look at the some summary statistics of the numeric attribute fields."
   ]
  },
  {
   "cell_type": "code",
   "execution_count": 6,
   "metadata": {},
   "outputs": [
    {
     "data": {
      "text/html": [
       "<div>\n",
       "<style scoped>\n",
       "    .dataframe tbody tr th:only-of-type {\n",
       "        vertical-align: middle;\n",
       "    }\n",
       "\n",
       "    .dataframe tbody tr th {\n",
       "        vertical-align: top;\n",
       "    }\n",
       "\n",
       "    .dataframe thead th {\n",
       "        text-align: right;\n",
       "    }\n",
       "</style>\n",
       "<table border=\"1\" class=\"dataframe\">\n",
       "  <thead>\n",
       "    <tr style=\"text-align: right;\">\n",
       "      <th></th>\n",
       "      <th>failure</th>\n",
       "      <th>attribute1</th>\n",
       "      <th>attribute2</th>\n",
       "      <th>attribute3</th>\n",
       "      <th>attribute4</th>\n",
       "      <th>attribute5</th>\n",
       "      <th>attribute6</th>\n",
       "      <th>attribute7</th>\n",
       "      <th>attribute8</th>\n",
       "      <th>attribute9</th>\n",
       "    </tr>\n",
       "  </thead>\n",
       "  <tbody>\n",
       "    <tr>\n",
       "      <th>count</th>\n",
       "      <td>124494.000000</td>\n",
       "      <td>1.244940e+05</td>\n",
       "      <td>124494.000000</td>\n",
       "      <td>124494.000000</td>\n",
       "      <td>124494.000000</td>\n",
       "      <td>124494.000000</td>\n",
       "      <td>124494.000000</td>\n",
       "      <td>124494.000000</td>\n",
       "      <td>124494.000000</td>\n",
       "      <td>124494.000000</td>\n",
       "    </tr>\n",
       "    <tr>\n",
       "      <th>mean</th>\n",
       "      <td>0.000851</td>\n",
       "      <td>1.223881e+08</td>\n",
       "      <td>159.484762</td>\n",
       "      <td>9.940455</td>\n",
       "      <td>1.741120</td>\n",
       "      <td>14.222669</td>\n",
       "      <td>260172.657726</td>\n",
       "      <td>0.292528</td>\n",
       "      <td>0.292528</td>\n",
       "      <td>12.451524</td>\n",
       "    </tr>\n",
       "    <tr>\n",
       "      <th>std</th>\n",
       "      <td>0.029167</td>\n",
       "      <td>7.045933e+07</td>\n",
       "      <td>2179.657730</td>\n",
       "      <td>185.747321</td>\n",
       "      <td>22.908507</td>\n",
       "      <td>15.943028</td>\n",
       "      <td>99151.078547</td>\n",
       "      <td>7.436924</td>\n",
       "      <td>7.436924</td>\n",
       "      <td>191.425623</td>\n",
       "    </tr>\n",
       "    <tr>\n",
       "      <th>min</th>\n",
       "      <td>0.000000</td>\n",
       "      <td>0.000000e+00</td>\n",
       "      <td>0.000000</td>\n",
       "      <td>0.000000</td>\n",
       "      <td>0.000000</td>\n",
       "      <td>1.000000</td>\n",
       "      <td>8.000000</td>\n",
       "      <td>0.000000</td>\n",
       "      <td>0.000000</td>\n",
       "      <td>0.000000</td>\n",
       "    </tr>\n",
       "    <tr>\n",
       "      <th>25%</th>\n",
       "      <td>0.000000</td>\n",
       "      <td>6.128476e+07</td>\n",
       "      <td>0.000000</td>\n",
       "      <td>0.000000</td>\n",
       "      <td>0.000000</td>\n",
       "      <td>8.000000</td>\n",
       "      <td>221452.000000</td>\n",
       "      <td>0.000000</td>\n",
       "      <td>0.000000</td>\n",
       "      <td>0.000000</td>\n",
       "    </tr>\n",
       "    <tr>\n",
       "      <th>50%</th>\n",
       "      <td>0.000000</td>\n",
       "      <td>1.227974e+08</td>\n",
       "      <td>0.000000</td>\n",
       "      <td>0.000000</td>\n",
       "      <td>0.000000</td>\n",
       "      <td>10.000000</td>\n",
       "      <td>249799.500000</td>\n",
       "      <td>0.000000</td>\n",
       "      <td>0.000000</td>\n",
       "      <td>0.000000</td>\n",
       "    </tr>\n",
       "    <tr>\n",
       "      <th>75%</th>\n",
       "      <td>0.000000</td>\n",
       "      <td>1.833096e+08</td>\n",
       "      <td>0.000000</td>\n",
       "      <td>0.000000</td>\n",
       "      <td>0.000000</td>\n",
       "      <td>12.000000</td>\n",
       "      <td>310266.000000</td>\n",
       "      <td>0.000000</td>\n",
       "      <td>0.000000</td>\n",
       "      <td>0.000000</td>\n",
       "    </tr>\n",
       "    <tr>\n",
       "      <th>max</th>\n",
       "      <td>1.000000</td>\n",
       "      <td>2.441405e+08</td>\n",
       "      <td>64968.000000</td>\n",
       "      <td>24929.000000</td>\n",
       "      <td>1666.000000</td>\n",
       "      <td>98.000000</td>\n",
       "      <td>689161.000000</td>\n",
       "      <td>832.000000</td>\n",
       "      <td>832.000000</td>\n",
       "      <td>18701.000000</td>\n",
       "    </tr>\n",
       "  </tbody>\n",
       "</table>\n",
       "</div>"
      ],
      "text/plain": [
       "             failure    attribute1     attribute2     attribute3  \\\n",
       "count  124494.000000  1.244940e+05  124494.000000  124494.000000   \n",
       "mean        0.000851  1.223881e+08     159.484762       9.940455   \n",
       "std         0.029167  7.045933e+07    2179.657730     185.747321   \n",
       "min         0.000000  0.000000e+00       0.000000       0.000000   \n",
       "25%         0.000000  6.128476e+07       0.000000       0.000000   \n",
       "50%         0.000000  1.227974e+08       0.000000       0.000000   \n",
       "75%         0.000000  1.833096e+08       0.000000       0.000000   \n",
       "max         1.000000  2.441405e+08   64968.000000   24929.000000   \n",
       "\n",
       "          attribute4     attribute5     attribute6     attribute7  \\\n",
       "count  124494.000000  124494.000000  124494.000000  124494.000000   \n",
       "mean        1.741120      14.222669  260172.657726       0.292528   \n",
       "std        22.908507      15.943028   99151.078547       7.436924   \n",
       "min         0.000000       1.000000       8.000000       0.000000   \n",
       "25%         0.000000       8.000000  221452.000000       0.000000   \n",
       "50%         0.000000      10.000000  249799.500000       0.000000   \n",
       "75%         0.000000      12.000000  310266.000000       0.000000   \n",
       "max      1666.000000      98.000000  689161.000000     832.000000   \n",
       "\n",
       "          attribute8     attribute9  \n",
       "count  124494.000000  124494.000000  \n",
       "mean        0.292528      12.451524  \n",
       "std         7.436924     191.425623  \n",
       "min         0.000000       0.000000  \n",
       "25%         0.000000       0.000000  \n",
       "50%         0.000000       0.000000  \n",
       "75%         0.000000       0.000000  \n",
       "max       832.000000   18701.000000  "
      ]
     },
     "execution_count": 6,
     "metadata": {},
     "output_type": "execute_result"
    }
   ],
   "source": [
    "df.describe(include=[np.number])"
   ]
  },
  {
   "cell_type": "markdown",
   "metadata": {},
   "source": [
    "We do not know what measurements or units the values of each attribue represents, but we can see a wide range of positive numbers, and some attribute samples have a very large standard deviation.\n",
    "\n",
    "Since we are trying to predict the patterns of attribute values that cause failures, lets look at the min/max/mean of the attribute values grouped by failure state."
   ]
  },
  {
   "cell_type": "markdown",
   "metadata": {},
   "source": [
    "### Min/Max/Mean by Failure State"
   ]
  },
  {
   "cell_type": "code",
   "execution_count": 7,
   "metadata": {},
   "outputs": [
    {
     "data": {
      "text/html": [
       "<div>\n",
       "<style scoped>\n",
       "    .dataframe tbody tr th:only-of-type {\n",
       "        vertical-align: middle;\n",
       "    }\n",
       "\n",
       "    .dataframe tbody tr th {\n",
       "        vertical-align: top;\n",
       "    }\n",
       "\n",
       "    .dataframe thead th {\n",
       "        text-align: right;\n",
       "    }\n",
       "</style>\n",
       "<table border=\"1\" class=\"dataframe\">\n",
       "  <thead>\n",
       "    <tr style=\"text-align: right;\">\n",
       "      <th></th>\n",
       "      <th>attribute1</th>\n",
       "      <th>attribute2</th>\n",
       "      <th>attribute3</th>\n",
       "      <th>attribute4</th>\n",
       "      <th>attribute5</th>\n",
       "      <th>attribute6</th>\n",
       "      <th>attribute7</th>\n",
       "      <th>attribute8</th>\n",
       "      <th>attribute9</th>\n",
       "    </tr>\n",
       "    <tr>\n",
       "      <th>failure</th>\n",
       "      <th></th>\n",
       "      <th></th>\n",
       "      <th></th>\n",
       "      <th></th>\n",
       "      <th></th>\n",
       "      <th></th>\n",
       "      <th></th>\n",
       "      <th></th>\n",
       "      <th></th>\n",
       "    </tr>\n",
       "  </thead>\n",
       "  <tbody>\n",
       "    <tr>\n",
       "      <th>0</th>\n",
       "      <td>1.223840e+08</td>\n",
       "      <td>156.118725</td>\n",
       "      <td>9.945598</td>\n",
       "      <td>1.696048</td>\n",
       "      <td>14.221613</td>\n",
       "      <td>260174.250587</td>\n",
       "      <td>0.266682</td>\n",
       "      <td>0.266682</td>\n",
       "      <td>12.442462</td>\n",
       "    </tr>\n",
       "    <tr>\n",
       "      <th>1</th>\n",
       "      <td>1.271755e+08</td>\n",
       "      <td>4109.433962</td>\n",
       "      <td>3.905660</td>\n",
       "      <td>54.632075</td>\n",
       "      <td>15.462264</td>\n",
       "      <td>258303.481132</td>\n",
       "      <td>30.622642</td>\n",
       "      <td>30.622642</td>\n",
       "      <td>23.084906</td>\n",
       "    </tr>\n",
       "  </tbody>\n",
       "</table>\n",
       "</div>"
      ],
      "text/plain": [
       "           attribute1   attribute2  attribute3  attribute4  attribute5  \\\n",
       "failure                                                                  \n",
       "0        1.223840e+08   156.118725    9.945598    1.696048   14.221613   \n",
       "1        1.271755e+08  4109.433962    3.905660   54.632075   15.462264   \n",
       "\n",
       "            attribute6  attribute7  attribute8  attribute9  \n",
       "failure                                                     \n",
       "0        260174.250587    0.266682    0.266682   12.442462  \n",
       "1        258303.481132   30.622642   30.622642   23.084906  "
      ]
     },
     "execution_count": 7,
     "metadata": {},
     "output_type": "execute_result"
    }
   ],
   "source": [
    "df.groupby('failure')[['attribute1', 'attribute2', 'attribute3', \n",
    "                      'attribute4', 'attribute5', 'attribute6',\n",
    "                      'attribute7', 'attribute8', 'attribute9']].mean()"
   ]
  },
  {
   "cell_type": "code",
   "execution_count": 8,
   "metadata": {},
   "outputs": [
    {
     "data": {
      "text/html": [
       "<div>\n",
       "<style scoped>\n",
       "    .dataframe tbody tr th:only-of-type {\n",
       "        vertical-align: middle;\n",
       "    }\n",
       "\n",
       "    .dataframe tbody tr th {\n",
       "        vertical-align: top;\n",
       "    }\n",
       "\n",
       "    .dataframe thead th {\n",
       "        text-align: right;\n",
       "    }\n",
       "</style>\n",
       "<table border=\"1\" class=\"dataframe\">\n",
       "  <thead>\n",
       "    <tr style=\"text-align: right;\">\n",
       "      <th></th>\n",
       "      <th>attribute1</th>\n",
       "      <th>attribute2</th>\n",
       "      <th>attribute3</th>\n",
       "      <th>attribute4</th>\n",
       "      <th>attribute5</th>\n",
       "      <th>attribute6</th>\n",
       "      <th>attribute7</th>\n",
       "      <th>attribute8</th>\n",
       "      <th>attribute9</th>\n",
       "    </tr>\n",
       "    <tr>\n",
       "      <th>failure</th>\n",
       "      <th></th>\n",
       "      <th></th>\n",
       "      <th></th>\n",
       "      <th></th>\n",
       "      <th></th>\n",
       "      <th></th>\n",
       "      <th></th>\n",
       "      <th></th>\n",
       "      <th></th>\n",
       "    </tr>\n",
       "  </thead>\n",
       "  <tbody>\n",
       "    <tr>\n",
       "      <th>0</th>\n",
       "      <td>0</td>\n",
       "      <td>0</td>\n",
       "      <td>0</td>\n",
       "      <td>0</td>\n",
       "      <td>1</td>\n",
       "      <td>8</td>\n",
       "      <td>0</td>\n",
       "      <td>0</td>\n",
       "      <td>0</td>\n",
       "    </tr>\n",
       "    <tr>\n",
       "      <th>1</th>\n",
       "      <td>4527376</td>\n",
       "      <td>0</td>\n",
       "      <td>0</td>\n",
       "      <td>0</td>\n",
       "      <td>3</td>\n",
       "      <td>24</td>\n",
       "      <td>0</td>\n",
       "      <td>0</td>\n",
       "      <td>0</td>\n",
       "    </tr>\n",
       "  </tbody>\n",
       "</table>\n",
       "</div>"
      ],
      "text/plain": [
       "         attribute1  attribute2  attribute3  attribute4  attribute5  \\\n",
       "failure                                                               \n",
       "0                 0           0           0           0           1   \n",
       "1           4527376           0           0           0           3   \n",
       "\n",
       "         attribute6  attribute7  attribute8  attribute9  \n",
       "failure                                                  \n",
       "0                 8           0           0           0  \n",
       "1                24           0           0           0  "
      ]
     },
     "execution_count": 8,
     "metadata": {},
     "output_type": "execute_result"
    }
   ],
   "source": [
    "df.groupby('failure')[['attribute1', 'attribute2', 'attribute3', \n",
    "                      'attribute4', 'attribute5', 'attribute6',\n",
    "                      'attribute7', 'attribute8', 'attribute9']].min()"
   ]
  },
  {
   "cell_type": "code",
   "execution_count": 9,
   "metadata": {},
   "outputs": [
    {
     "data": {
      "text/html": [
       "<div>\n",
       "<style scoped>\n",
       "    .dataframe tbody tr th:only-of-type {\n",
       "        vertical-align: middle;\n",
       "    }\n",
       "\n",
       "    .dataframe tbody tr th {\n",
       "        vertical-align: top;\n",
       "    }\n",
       "\n",
       "    .dataframe thead th {\n",
       "        text-align: right;\n",
       "    }\n",
       "</style>\n",
       "<table border=\"1\" class=\"dataframe\">\n",
       "  <thead>\n",
       "    <tr style=\"text-align: right;\">\n",
       "      <th></th>\n",
       "      <th>attribute1</th>\n",
       "      <th>attribute2</th>\n",
       "      <th>attribute3</th>\n",
       "      <th>attribute4</th>\n",
       "      <th>attribute5</th>\n",
       "      <th>attribute6</th>\n",
       "      <th>attribute7</th>\n",
       "      <th>attribute8</th>\n",
       "      <th>attribute9</th>\n",
       "    </tr>\n",
       "    <tr>\n",
       "      <th>failure</th>\n",
       "      <th></th>\n",
       "      <th></th>\n",
       "      <th></th>\n",
       "      <th></th>\n",
       "      <th></th>\n",
       "      <th></th>\n",
       "      <th></th>\n",
       "      <th></th>\n",
       "      <th></th>\n",
       "    </tr>\n",
       "  </thead>\n",
       "  <tbody>\n",
       "    <tr>\n",
       "      <th>0</th>\n",
       "      <td>244140480</td>\n",
       "      <td>64968</td>\n",
       "      <td>24929</td>\n",
       "      <td>1666</td>\n",
       "      <td>98</td>\n",
       "      <td>689161</td>\n",
       "      <td>832</td>\n",
       "      <td>832</td>\n",
       "      <td>18701</td>\n",
       "    </tr>\n",
       "    <tr>\n",
       "      <th>1</th>\n",
       "      <td>243261216</td>\n",
       "      <td>64784</td>\n",
       "      <td>318</td>\n",
       "      <td>1666</td>\n",
       "      <td>91</td>\n",
       "      <td>574599</td>\n",
       "      <td>832</td>\n",
       "      <td>832</td>\n",
       "      <td>1165</td>\n",
       "    </tr>\n",
       "  </tbody>\n",
       "</table>\n",
       "</div>"
      ],
      "text/plain": [
       "         attribute1  attribute2  attribute3  attribute4  attribute5  \\\n",
       "failure                                                               \n",
       "0         244140480       64968       24929        1666          98   \n",
       "1         243261216       64784         318        1666          91   \n",
       "\n",
       "         attribute6  attribute7  attribute8  attribute9  \n",
       "failure                                                  \n",
       "0            689161         832         832       18701  \n",
       "1            574599         832         832        1165  "
      ]
     },
     "execution_count": 9,
     "metadata": {},
     "output_type": "execute_result"
    }
   ],
   "source": [
    "df.groupby('failure')[['attribute1', 'attribute2', 'attribute3', \n",
    "                      'attribute4', 'attribute5', 'attribute6',\n",
    "                      'attribute7', 'attribute8', 'attribute9']].max()"
   ]
  },
  {
   "cell_type": "markdown",
   "metadata": {},
   "source": [
    "I can see that the mean value of attribute2, attribute4, attribute7, attribute8, and attribute9 are a bit higher under failure conditions. The minimum value of attribute1 is quite a lot higher under failure conditions. Nothing really stands out on the maximum values.\n",
    "\n",
    "Now, lets try to get a look at the distribution of data under both conditions."
   ]
  },
  {
   "cell_type": "markdown",
   "metadata": {},
   "source": [
    "## Attribute Data Distribution"
   ]
  },
  {
   "cell_type": "markdown",
   "metadata": {},
   "source": [
    "I can see that the attributes have very different scales. I'm going to scale the data using scikit MinMaxScaler.\n",
    "\n",
    "After scaling, let's see the spread of the data under normal and failure conditions for each attribute."
   ]
  },
  {
   "cell_type": "code",
   "execution_count": 10,
   "metadata": {},
   "outputs": [
    {
     "data": {
      "text/plain": [
       "array([[<matplotlib.axes._subplots.AxesSubplot object at 0x7efe461be390>,\n",
       "        <matplotlib.axes._subplots.AxesSubplot object at 0x7efe44aed630>],\n",
       "       [<matplotlib.axes._subplots.AxesSubplot object at 0x7efe44a949e8>,\n",
       "        <matplotlib.axes._subplots.AxesSubplot object at 0x7efe44a3cda0>]],\n",
       "      dtype=object)"
      ]
     },
     "execution_count": 10,
     "metadata": {},
     "output_type": "execute_result"
    },
    {
     "data": {
      "image/png": "[encoded data removed]",
      "text/plain": [
       "<Figure size 864x396 with 4 Axes>"
      ]
     },
     "metadata": {},
     "output_type": "display_data"
    }
   ],
   "source": [
    "attribute_columns = [\"attribute1\", \"attribute2\", \"attribute3\",\n",
    "                    \"attribute4\", \"attribute5\", \"attribute6\",\n",
    "                    \"attribute7\", \"attribute8\", \"attribute9\"]\n",
    "\n",
    "# Scale the data\n",
    "for col in attribute_columns:\n",
    "    column_name = col + \"_scaled\"\n",
    "    scaled_data = scale_column(df, col)\n",
    "    df[column_name] = scaled_data[0].values\n",
    "    \n",
    "#Plot first 3 attributes\n",
    "df.boxplot(column=['attribute1_scaled', 'attribute2_scaled', 'attribute3_scaled'], \n",
    "           by=['failure'], \n",
    "           figsize= (12,5.5), fontsize = 10.0)"
   ]
  },
  {
   "cell_type": "code",
   "execution_count": 11,
   "metadata": {},
   "outputs": [
    {
     "data": {
      "text/plain": [
       "array([[<matplotlib.axes._subplots.AxesSubplot object at 0x7efe448f8780>,\n",
       "        <matplotlib.axes._subplots.AxesSubplot object at 0x7efe44888940>],\n",
       "       [<matplotlib.axes._subplots.AxesSubplot object at 0x7efe448b6048>,\n",
       "        <matplotlib.axes._subplots.AxesSubplot object at 0x7efe4485d710>]],\n",
       "      dtype=object)"
      ]
     },
     "execution_count": 11,
     "metadata": {},
     "output_type": "execute_result"
    },
    {
     "data": {
      "image/png": "[encoded data removed]",
      "text/plain": [
       "<Figure size 864x396 with 4 Axes>"
      ]
     },
     "metadata": {},
     "output_type": "display_data"
    }
   ],
   "source": [
    "#Plot next 3 attributes\n",
    "df.boxplot(column=['attribute4_scaled', 'attribute5_scaled', 'attribute6_scaled'], \n",
    "           by=['failure'], \n",
    "           figsize= (12,5.5), fontsize = 10.0)"
   ]
  },
  {
   "cell_type": "markdown",
   "metadata": {},
   "source": [
    "All I can really see is that most of the attributes tend toward low values under both conditions. Let's see if we can get a better view of the distribution."
   ]
  },
  {
   "cell_type": "code",
   "execution_count": 12,
   "metadata": {},
   "outputs": [
    {
     "data": {
      "text/plain": [
       "<matplotlib.axes._subplots.AxesSubplot at 0x7efe47665128>"
      ]
     },
     "metadata": {},
     "output_type": "display_data"
    },
    {
     "data": {
      "image/png": "[encoded data removed]",
      "text/plain": [
       "<Figure size 432x288 with 1 Axes>"
      ]
     },
     "metadata": {},
     "output_type": "display_data"
    }
   ],
   "source": [
    "# Set the pallette\n",
    "sns.set_palette(['green','red'])\n",
    "\n",
    "# Plot attribute1\n",
    "plot1 = sns.barplot(x='failure',y='attribute1_scaled',data=df)\n",
    "plot1.set_title(\"Attribute1\")\n",
    "set_barplot_lables(plot1)\n",
    "display(plot1)"
   ]
  },
  {
   "cell_type": "code",
   "execution_count": 13,
   "metadata": {},
   "outputs": [
    {
     "data": {
      "text/plain": [
       "<matplotlib.axes._subplots.AxesSubplot at 0x7efe4469b978>"
      ]
     },
     "metadata": {},
     "output_type": "display_data"
    },
    {
     "data": {
      "image/png": "[encoded data removed]",
      "text/plain": [
       "<Figure size 432x288 with 1 Axes>"
      ]
     },
     "metadata": {},
     "output_type": "display_data"
    }
   ],
   "source": [
    "# Plot attribute2\n",
    "plot2 = sns.barplot(x='failure',y='attribute2_scaled',data=df)\n",
    "plot2.set_title(\"Attribute2\")\n",
    "set_barplot_lables(plot2)\n",
    "display(plot2)"
   ]
  },
  {
   "cell_type": "code",
   "execution_count": 14,
   "metadata": {},
   "outputs": [
    {
     "data": {
      "text/plain": [
       "<matplotlib.axes._subplots.AxesSubplot at 0x7efe4766f278>"
      ]
     },
     "metadata": {},
     "output_type": "display_data"
    },
    {
     "data": {
      "image/png": "[encoded data removed]",
      "text/plain": [
       "<Figure size 432x288 with 1 Axes>"
      ]
     },
     "metadata": {},
     "output_type": "display_data"
    }
   ],
   "source": [
    "# Plot attribute3\n",
    "plot3 = sns.barplot(x='failure',y='attribute3_scaled',data=df)\n",
    "plot3.set_title(\"Attribute3\")\n",
    "set_barplot_lables(plot3)\n",
    "display(plot3)"
   ]
  },
  {
   "cell_type": "code",
   "execution_count": 15,
   "metadata": {},
   "outputs": [
    {
     "data": {
      "text/plain": [
       "<matplotlib.axes._subplots.AxesSubplot at 0x7efe4771c438>"
      ]
     },
     "metadata": {},
     "output_type": "display_data"
    },
    {
     "data": {
      "image/png": "[encoded data removed]",
      "text/plain": [
       "<Figure size 432x288 with 1 Axes>"
      ]
     },
     "metadata": {},
     "output_type": "display_data"
    }
   ],
   "source": [
    "# Plot attribute4\n",
    "plot4 = sns.barplot(x='failure',y='attribute4_scaled',data=df)\n",
    "plot4.set_title(\"Attribute4\")\n",
    "set_barplot_lables(plot4)\n",
    "display(plot4)"
   ]
  },
  {
   "cell_type": "code",
   "execution_count": 16,
   "metadata": {
    "scrolled": true
   },
   "outputs": [
    {
     "data": {
      "text/plain": [
       "<matplotlib.axes._subplots.AxesSubplot at 0x7efe476c64e0>"
      ]
     },
     "metadata": {},
     "output_type": "display_data"
    },
    {
     "data": {
      "image/png": "[encoded data removed]",
      "text/plain": [
       "<Figure size 432x288 with 1 Axes>"
      ]
     },
     "metadata": {},
     "output_type": "display_data"
    }
   ],
   "source": [
    "# Plot attribute5\n",
    "plot5 = sns.barplot(x='failure',y='attribute5_scaled',data=df)\n",
    "plot5.set_title(\"Attribute5\")\n",
    "set_barplot_lables(plot5)\n",
    "display(plot5)"
   ]
  },
  {
   "cell_type": "code",
   "execution_count": 17,
   "metadata": {},
   "outputs": [
    {
     "data": {
      "text/plain": [
       "<matplotlib.axes._subplots.AxesSubplot at 0x7efe44654f98>"
      ]
     },
     "metadata": {},
     "output_type": "display_data"
    },
    {
     "data": {
      "image/png": "[encoded data removed]",
      "text/plain": [
       "<Figure size 432x288 with 1 Axes>"
      ]
     },
     "metadata": {},
     "output_type": "display_data"
    }
   ],
   "source": [
    "# Plot attribute6\n",
    "plot6 = sns.barplot(x='failure',y='attribute6_scaled',data=df)\n",
    "plot6.set_title(\"Attribute6\")\n",
    "set_barplot_lables(plot6)\n",
    "display(plot6)"
   ]
  },
  {
   "cell_type": "code",
   "execution_count": 18,
   "metadata": {},
   "outputs": [
    {
     "data": {
      "text/plain": [
       "<matplotlib.axes._subplots.AxesSubplot at 0x7efe4790ce10>"
      ]
     },
     "metadata": {},
     "output_type": "display_data"
    },
    {
     "data": {
      "image/png": "[encoded data removed]",
      "text/plain": [
       "<Figure size 432x288 with 1 Axes>"
      ]
     },
     "metadata": {},
     "output_type": "display_data"
    }
   ],
   "source": [
    "# Plot attribute7\n",
    "plot7 = sns.barplot(x='failure',y='attribute7_scaled',data=df)\n",
    "plot7.set_title(\"Attribute7\")\n",
    "set_barplot_lables(plot7)\n",
    "display(plot7)"
   ]
  },
  {
   "cell_type": "code",
   "execution_count": 19,
   "metadata": {},
   "outputs": [
    {
     "data": {
      "text/plain": [
       "<matplotlib.axes._subplots.AxesSubplot at 0x7efe47848470>"
      ]
     },
     "metadata": {},
     "output_type": "display_data"
    },
    {
     "data": {
      "image/png": "[encoded data removed]",
      "text/plain": [
       "<Figure size 432x288 with 1 Axes>"
      ]
     },
     "metadata": {},
     "output_type": "display_data"
    }
   ],
   "source": [
    "# Plot attribute8\n",
    "plot8 = sns.barplot(x='failure',y='attribute8_scaled',data=df)\n",
    "plot8.set_title(\"Attribute8\")\n",
    "set_barplot_lables(plot8)\n",
    "display(plot8)"
   ]
  },
  {
   "cell_type": "code",
   "execution_count": 20,
   "metadata": {},
   "outputs": [
    {
     "data": {
      "text/plain": [
       "<matplotlib.axes._subplots.AxesSubplot at 0x7efe4783bc18>"
      ]
     },
     "metadata": {},
     "output_type": "display_data"
    },
    {
     "data": {
      "image/png": "[encoded data removed]",
      "text/plain": [
       "<Figure size 432x288 with 1 Axes>"
      ]
     },
     "metadata": {},
     "output_type": "display_data"
    }
   ],
   "source": [
    "# Plot attribute9\n",
    "plot9 = sns.barplot(x='failure',y='attribute9_scaled',data=df)\n",
    "plot9.set_title(\"Attribute9\")\n",
    "set_barplot_lables(plot9)\n",
    "display(plot9)"
   ]
  },
  {
   "cell_type": "markdown",
   "metadata": {},
   "source": [
    "That gives us a little better idea of the data distribution under failure conditions. We can see that attribute2, attribute4, attribute7, attribute8, attribute9 are quite a bit higher under failure conditions."
   ]
  },
  {
   "cell_type": "markdown",
   "metadata": {},
   "source": [
    "## Train and Test Data"
   ]
  },
  {
   "cell_type": "markdown",
   "metadata": {},
   "source": [
    "Now that we have some idea of the data distribution under normal and failure conditions, we can start preparing our training and test data."
   ]
  },
  {
   "cell_type": "markdown",
   "metadata": {},
   "source": [
    "Our lables are the failure column, and the dataset needs to contain attribute1_scaled - attribute9_scaled. We will slice those off of the full dataset and shuffle the data to ensure it is in random order."
   ]
  },
  {
   "cell_type": "code",
   "execution_count": 21,
   "metadata": {},
   "outputs": [
    {
     "name": "stdout",
     "output_type": "stream",
     "text": [
      "train:(87307, 10) test:(37187, 10)\n",
      "vectors shape:(87307, 9) lables shape:(87307,)\n",
      "training data uploaded to: s3://sagemaker-bryfreem/bryfreem-work-sample/train/recordio-failure-data\n",
      "training artifacts will be uploaded to: s3://sagemaker-bryfreem/bryfreem-work-sample/output\n"
     ]
    }
   ],
   "source": [
    "# Create subset dataframe\n",
    "df_subset = df[['failure', 'attribute1_scaled', 'attribute2_scaled', 'attribute3_scaled',\n",
    "               'attribute4_scaled', 'attribute5_scaled', 'attribute6_scaled',\n",
    "               'attribute7_scaled', 'attribute8_scaled', 'attribute9_scaled']]\n",
    "\n",
    "\n",
    "# Shuffle the data\n",
    "df_subset = df_subset.sample(frac=1).reset_index(drop=True)\n",
    "\n",
    "# Split the data\n",
    "train_set, test_set = split_data(df_subset)\n",
    "print(\"train:{} test:{}\".format(train_set.shape, test_set.shape))\n",
    "\n",
    "# Convert the data\n",
    "vectors, labels = convert_data(train_set)\n",
    "print(\"vectors shape:{} lables shape:{}\".format(vectors.shape, labels.shape))\n",
    "\n",
    "# Create protobuf\n",
    "buffer = io.BytesIO()\n",
    "smac.write_numpy_to_dense_tensor(buffer, vectors, labels)\n",
    "buffer.seek(0)\n",
    "\n",
    "# Upload training data to A3\n",
    "s3_train_data = upload_training_data(buffer)\n",
    "print('training data uploaded to: {}'.format(s3_train_data))\n",
    "\n",
    "# Set up output location\n",
    "output_location = 's3://{}/{}/output'.format(s3_bucket, prefix)\n",
    "print('training artifacts will be uploaded to: {}'.format(output_location))"
   ]
  },
  {
   "cell_type": "markdown",
   "metadata": {},
   "source": [
    "## Train the Model"
   ]
  },
  {
   "cell_type": "markdown",
   "metadata": {},
   "source": [
    "Given that we are trying to predict a binary failure value from a group of numberic features, regression seems a natural fit. I will start with SageMakers Linear Learner algorithm and see what kind of accuracy I can obtain with that."
   ]
  },
  {
   "cell_type": "code",
   "execution_count": 22,
   "metadata": {},
   "outputs": [
    {
     "name": "stdout",
     "output_type": "stream",
     "text": [
      "2020-04-01 20:59:48 Starting - Starting the training job...\n",
      "2020-04-01 20:59:49 Starting - Launching requested ML instances......\n",
      "2020-04-01 21:00:55 Starting - Preparing the instances for training......\n",
      "2020-04-01 21:01:59 Downloading - Downloading input data...\n",
      "2020-04-01 21:02:42 Training - Training image download completed. Training in progress..\u001b[34mDocker entrypoint called with argument(s): train\u001b[0m\n",
      "\u001b[34mRunning default environment configuration script\u001b[0m\n",
      "\u001b[34m[04/01/2020 21:02:45 INFO 139768273004352] Reading default configuration from /opt/amazon/lib/python2.7/site-packages/algorithm/resources/default-input.json: {u'loss_insensitivity': u'0.01', u'epochs': u'15', u'feature_dim': u'auto', u'init_bias': u'0.0', u'lr_scheduler_factor': u'auto', u'num_calibration_samples': u'10000000', u'accuracy_top_k': u'3', u'_num_kv_servers': u'auto', u'use_bias': u'true', u'num_point_for_scaler': u'10000', u'_log_level': u'info', u'quantile': u'0.5', u'bias_lr_mult': u'auto', u'lr_scheduler_step': u'auto', u'init_method': u'uniform', u'init_sigma': u'0.01', u'lr_scheduler_minimum_lr': u'auto', u'target_recall': u'0.8', u'num_models': u'auto', u'early_stopping_patience': u'3', u'momentum': u'auto', u'unbias_label': u'auto', u'wd': u'auto', u'optimizer': u'auto', u'_tuning_objective_metric': u'', u'early_stopping_tolerance': u'0.001', u'learning_rate': u'auto', u'_kvstore': u'auto', u'normalize_data': u'true', u'binary_classifier_model_selection_criteria': u'accuracy', u'use_lr_scheduler': u'true', u'target_precision': u'0.8', u'unbias_data': u'auto', u'init_scale': u'0.07', u'bias_wd_mult': u'auto', u'f_beta': u'1.0', u'mini_batch_size': u'1000', u'huber_delta': u'1.0', u'num_classes': u'1', u'beta_1': u'auto', u'loss': u'auto', u'beta_2': u'auto', u'_enable_profiler': u'false', u'normalize_label': u'auto', u'_num_gpus': u'auto', u'balance_multiclass_weights': u'false', u'positive_example_weight_mult': u'1.0', u'l1': u'auto', u'margin': u'1.0'}\u001b[0m\n",
      "\u001b[34m[04/01/2020 21:02:45 INFO 139768273004352] Reading provided configuration from /opt/ml/input/config/hyperparameters.json: {u'epochs': u'5', u'feature_dim': u'9', u'mini_batch_size': u'100', u'predictor_type': u'binary_classifier'}\u001b[0m\n",
      "\u001b[34m[04/01/2020 21:02:45 INFO 139768273004352] Final configuration: {u'loss_insensitivity': u'0.01', u'epochs': u'5', u'feature_dim': u'9', u'init_bias': u'0.0', u'lr_scheduler_factor': u'auto', u'num_calibration_samples': u'10000000', u'accuracy_top_k': u'3', u'_num_kv_servers': u'auto', u'use_bias': u'true', u'num_point_for_scaler': u'10000', u'_log_level': u'info', u'quantile': u'0.5', u'bias_lr_mult': u'auto', u'lr_scheduler_step': u'auto', u'init_method': u'uniform', u'init_sigma': u'0.01', u'lr_scheduler_minimum_lr': u'auto', u'target_recall': u'0.8', u'num_models': u'auto', u'early_stopping_patience': u'3', u'momentum': u'auto', u'unbias_label': u'auto', u'wd': u'auto', u'optimizer': u'auto', u'_tuning_objective_metric': u'', u'early_stopping_tolerance': u'0.001', u'learning_rate': u'auto', u'_kvstore': u'auto', u'normalize_data': u'true', u'binary_classifier_model_selection_criteria': u'accuracy', u'use_lr_scheduler': u'true', u'target_precision': u'0.8', u'unbias_data': u'auto', u'init_scale': u'0.07', u'bias_wd_mult': u'auto', u'f_beta': u'1.0', u'mini_batch_size': u'100', u'huber_delta': u'1.0', u'num_classes': u'1', u'predictor_type': u'binary_classifier', u'beta_1': u'auto', u'loss': u'auto', u'beta_2': u'auto', u'_enable_profiler': u'false', u'normalize_label': u'auto', u'_num_gpus': u'auto', u'balance_multiclass_weights': u'false', u'positive_example_weight_mult': u'1.0', u'l1': u'auto', u'margin': u'1.0'}\u001b[0m\n",
      "\u001b[34m[04/01/2020 21:02:45 WARNING 139768273004352] Loggers have already been setup.\u001b[0m\n",
      "\u001b[34mProcess 1 is a worker.\u001b[0m\n",
      "\u001b[34m[04/01/2020 21:02:45 INFO 139768273004352] Using default worker.\u001b[0m\n",
      "\u001b[34m[2020-04-01 21:02:45.181] [tensorio] [info] epoch_stats={\"data_pipeline\": \"/opt/ml/input/data/train\", \"epoch\": 0, \"duration\": 17, \"num_examples\": 1, \"num_bytes\": 8000}\u001b[0m\n",
      "\u001b[34m[04/01/2020 21:02:45 INFO 139768273004352] Create Store: local\u001b[0m\n",
      "\u001b[34m[2020-04-01 21:02:45.387] [tensorio] [info] epoch_stats={\"data_pipeline\": \"/opt/ml/input/data/train\", \"epoch\": 1, \"duration\": 205, \"num_examples\": 101, \"num_bytes\": 808000}\u001b[0m\n",
      "\u001b[34m[04/01/2020 21:02:45 INFO 139768273004352] Scaler algorithm parameters\n",
      " <algorithm.scaler.ScalerAlgorithmStable object at 0x7f1e05331810>\u001b[0m\n",
      "\u001b[34m[04/01/2020 21:02:45 INFO 139768273004352] Scaling model computed with parameters:\n",
      " {'stdev_weight': \u001b[0m\n",
      "\u001b[34m[0.28837502 0.03647057 0.00472357 0.01532692 0.16750295 0.14368154\n",
      " 0.01124285 0.01124285 0.0081168 ]\u001b[0m\n",
      "\u001b[34m<NDArray 9 @cpu(0)>, 'stdev_label': None, 'mean_label': None, 'mean_weight': \u001b[0m\n",
      "\u001b[34m[5.0529999e-01 2.8742990e-03 3.4911014e-04 1.1603057e-03 1.3778397e-01\n",
      " 3.7821022e-01 4.3507235e-04 4.3507235e-04 6.6187483e-04]\u001b[0m\n",
      "\u001b[34m<NDArray 9 @cpu(0)>}\u001b[0m\n",
      "\u001b[34m[04/01/2020 21:02:45 INFO 139768273004352] nvidia-smi took: 0.0251688957214 secs to identify 0 gpus\u001b[0m\n",
      "\u001b[34m[04/01/2020 21:02:45 INFO 139768273004352] Number of GPUs being used: 0\u001b[0m\n",
      "\u001b[34m#metrics {\"Metrics\": {\"Max Batches Seen Between Resets\": {\"count\": 1, \"max\": 101, \"sum\": 101.0, \"min\": 101}, \"Number of Batches Since Last Reset\": {\"count\": 1, \"max\": 0, \"sum\": 0.0, \"min\": 0}, \"Number of Records Since Last Reset\": {\"count\": 1, \"max\": 0, \"sum\": 0.0, \"min\": 0}, \"Total Batches Seen\": {\"count\": 1, \"max\": 102, \"sum\": 102.0, \"min\": 102}, \"Total Records Seen\": {\"count\": 1, \"max\": 10200, \"sum\": 10200.0, \"min\": 10200}, \"Max Records Seen Between Resets\": {\"count\": 1, \"max\": 10100, \"sum\": 10100.0, \"min\": 10100}, \"Reset Count\": {\"count\": 1, \"max\": 2, \"sum\": 2.0, \"min\": 2}}, \"EndTime\": 1585774965.48319, \"Dimensions\": {\"Host\": \"algo-1\", \"Meta\": \"init_train_data_iter\", \"Operation\": \"training\", \"Algorithm\": \"Linear Learner\"}, \"StartTime\": 1585774965.483157}\n",
      "\u001b[0m\n",
      "\u001b[34m[2020-04-01 21:03:09.914] [tensorio] [info] epoch_stats={\"data_pipeline\": \"/opt/ml/input/data/train\", \"epoch\": 3, \"duration\": 24430, \"num_examples\": 874, \"num_bytes\": 6984560}\u001b[0m\n",
      "\u001b[34m#metrics {\"Metrics\": {\"train_binary_classification_cross_entropy_objective\": {\"count\": 1, \"max\": 0.03723039911818805, \"sum\": 0.03723039911818805, \"min\": 0.03723039911818805}}, \"EndTime\": 1585774989.914385, \"Dimensions\": {\"model\": 0, \"Host\": \"algo-1\", \"Operation\": \"training\", \"Algorithm\": \"Linear Learner\", \"epoch\": 0}, \"StartTime\": 1585774989.914304}\n",
      "\u001b[0m\n",
      "\u001b[34m#metrics {\"Metrics\": {\"train_binary_classification_cross_entropy_objective\": {\"count\": 1, \"max\": 0.03549643551565937, \"sum\": 0.03549643551565937, \"min\": 0.03549643551565937}}, \"EndTime\": 1585774989.914489, \"Dimensions\": {\"model\": 1, \"Host\": \"algo-1\", \"Operation\": \"training\", \"Algorithm\": \"Linear Learner\", \"epoch\": 0}, \"StartTime\": 1585774989.914467}\n",
      "\u001b[0m\n",
      "\u001b[34m#metrics {\"Metrics\": {\"train_binary_classification_cross_entropy_objective\": {\"count\": 1, \"max\": 0.03724973302628986, \"sum\": 0.03724973302628986, \"min\": 0.03724973302628986}}, \"EndTime\": 1585774989.914565, \"Dimensions\": {\"model\": 2, \"Host\": \"algo-1\", \"Operation\": \"training\", \"Algorithm\": \"Linear Learner\", \"epoch\": 0}, \"StartTime\": 1585774989.914546}\n",
      "\u001b[0m\n",
      "\u001b[34m#metrics {\"Metrics\": {\"train_binary_classification_cross_entropy_objective\": {\"count\": 1, \"max\": 0.035559645647445494, \"sum\": 0.035559645647445494, \"min\": 0.035559645647445494}}, \"EndTime\": 1585774989.914635, \"Dimensions\": {\"model\": 3, \"Host\": \"algo-1\", \"Operation\": \"training\", \"Algorithm\": \"Linear Learner\", \"epoch\": 0}, \"StartTime\": 1585774989.914616}\n",
      "\u001b[0m\n",
      "\u001b[34m#metrics {\"Metrics\": {\"train_binary_classification_cross_entropy_objective\": {\"count\": 1, \"max\": 0.01134594733895625, \"sum\": 0.01134594733895625, \"min\": 0.01134594733895625}}, \"EndTime\": 1585774989.914703, \"Dimensions\": {\"model\": 4, \"Host\": \"algo-1\", \"Operation\": \"training\", \"Algorithm\": \"Linear Learner\", \"epoch\": 0}, \"StartTime\": 1585774989.91469}\n",
      "\u001b[0m\n",
      "\u001b[34m#metrics {\"Metrics\": {\"train_binary_classification_cross_entropy_objective\": {\"count\": 1, \"max\": 0.011857712810628654, \"sum\": 0.011857712810628654, \"min\": 0.011857712810628654}}, \"EndTime\": 1585774989.914749, \"Dimensions\": {\"model\": 5, \"Host\": \"algo-1\", \"Operation\": \"training\", \"Algorithm\": \"Linear Learner\", \"epoch\": 0}, \"StartTime\": 1585774989.914733}\n",
      "\u001b[0m\n",
      "\u001b[34m#metrics {\"Metrics\": {\"train_binary_classification_cross_entropy_objective\": {\"count\": 1, \"max\": 0.011280531954395778, \"sum\": 0.011280531954395778, \"min\": 0.011280531954395778}}, \"EndTime\": 1585774989.91482, \"Dimensions\": {\"model\": 6, \"Host\": \"algo-1\", \"Operation\": \"training\", \"Algorithm\": \"Linear Learner\", \"epoch\": 0}, \"StartTime\": 1585774989.9148}\n",
      "\u001b[0m\n",
      "\u001b[34m#metrics {\"Metrics\": {\"train_binary_classification_cross_entropy_objective\": {\"count\": 1, \"max\": 0.011884702009155297, \"sum\": 0.011884702009155297, \"min\": 0.011884702009155297}}, \"EndTime\": 1585774989.914882, \"Dimensions\": {\"model\": 7, \"Host\": \"algo-1\", \"Operation\": \"training\", \"Algorithm\": \"Linear Learner\", \"epoch\": 0}, \"StartTime\": 1585774989.914864}\n",
      "\u001b[0m\n",
      "\u001b[34m#metrics {\"Metrics\": {\"train_binary_classification_cross_entropy_objective\": {\"count\": 1, \"max\": 0.03718442686985995, \"sum\": 0.03718442686985995, \"min\": 0.03718442686985995}}, \"EndTime\": 1585774989.914941, \"Dimensions\": {\"model\": 8, \"Host\": \"algo-1\", \"Operation\": \"training\", \"Algorithm\": \"Linear Learner\", \"epoch\": 0}, \"StartTime\": 1585774989.914923}\n",
      "\u001b[0m\n",
      "\u001b[34m#metrics {\"Metrics\": {\"train_binary_classification_cross_entropy_objective\": {\"count\": 1, \"max\": 0.035524069958058145, \"sum\": 0.035524069958058145, \"min\": 0.035524069958058145}}, \"EndTime\": 1585774989.915004, \"Dimensions\": {\"model\": 9, \"Host\": \"algo-1\", \"Operation\": \"training\", \"Algorithm\": \"Linear Learner\", \"epoch\": 0}, \"StartTime\": 1585774989.914992}\n",
      "\u001b[0m\n",
      "\u001b[34m#metrics {\"Metrics\": {\"train_binary_classification_cross_entropy_objective\": {\"count\": 1, \"max\": 0.03718834841032891, \"sum\": 0.03718834841032891, \"min\": 0.03718834841032891}}, \"EndTime\": 1585774989.915045, \"Dimensions\": {\"model\": 10, \"Host\": \"algo-1\", \"Operation\": \"training\", \"Algorithm\": \"Linear Learner\", \"epoch\": 0}, \"StartTime\": 1585774989.915035}\n",
      "\u001b[0m\n",
      "\u001b[34m#metrics {\"Metrics\": {\"train_binary_classification_cross_entropy_objective\": {\"count\": 1, \"max\": 0.03555717375099591, \"sum\": 0.03555717375099591, \"min\": 0.03555717375099591}}, \"EndTime\": 1585774989.91508, \"Dimensions\": {\"model\": 11, \"Host\": \"algo-1\", \"Operation\": \"training\", \"Algorithm\": \"Linear Learner\", \"epoch\": 0}, \"StartTime\": 1585774989.915071}\n",
      "\u001b[0m\n",
      "\u001b[34m#metrics {\"Metrics\": {\"train_binary_classification_cross_entropy_objective\": {\"count\": 1, \"max\": 0.010440008681750764, \"sum\": 0.010440008681750764, \"min\": 0.010440008681750764}}, \"EndTime\": 1585774989.915113, \"Dimensions\": {\"model\": 12, \"Host\": \"algo-1\", \"Operation\": \"training\", \"Algorithm\": \"Linear Learner\", \"epoch\": 0}, \"StartTime\": 1585774989.915105}\n",
      "\u001b[0m\n",
      "\u001b[34m#metrics {\"Metrics\": {\"train_binary_classification_cross_entropy_objective\": {\"count\": 1, \"max\": 0.011010237288317789, \"sum\": 0.011010237288317789, \"min\": 0.011010237288317789}}, \"EndTime\": 1585774989.915171, \"Dimensions\": {\"model\": 13, \"Host\": \"algo-1\", \"Operation\": \"training\", \"Algorithm\": \"Linear Learner\", \"epoch\": 0}, \"StartTime\": 1585774989.915156}\n",
      "\u001b[0m\n",
      "\u001b[34m#metrics {\"Metrics\": {\"train_binary_classification_cross_entropy_objective\": {\"count\": 1, \"max\": 0.010399870039833302, \"sum\": 0.010399870039833302, \"min\": 0.010399870039833302}}, \"EndTime\": 1585774989.915239, \"Dimensions\": {\"model\": 14, \"Host\": \"algo-1\", \"Operation\": \"training\", \"Algorithm\": \"Linear Learner\", \"epoch\": 0}, \"StartTime\": 1585774989.915223}\n",
      "\u001b[0m\n",
      "\u001b[34m#metrics {\"Metrics\": {\"train_binary_classification_cross_entropy_objective\": {\"count\": 1, \"max\": 0.010968753589239325, \"sum\": 0.010968753589239325, \"min\": 0.010968753589239325}}, \"EndTime\": 1585774989.915299, \"Dimensions\": {\"model\": 15, \"Host\": \"algo-1\", \"Operation\": \"training\", \"Algorithm\": \"Linear Learner\", \"epoch\": 0}, \"StartTime\": 1585774989.915283}\n",
      "\u001b[0m\n",
      "\u001b[34m#metrics {\"Metrics\": {\"train_binary_classification_cross_entropy_objective\": {\"count\": 1, \"max\": 0.037303536694074414, \"sum\": 0.037303536694074414, \"min\": 0.037303536694074414}}, \"EndTime\": 1585774989.915359, \"Dimensions\": {\"model\": 16, \"Host\": \"algo-1\", \"Operation\": \"training\", \"Algorithm\": \"Linear Learner\", \"epoch\": 0}, \"StartTime\": 1585774989.915343}\n",
      "\u001b[0m\n",
      "\u001b[34m#metrics {\"Metrics\": {\"train_binary_classification_cross_entropy_objective\": {\"count\": 1, \"max\": 0.035531996821414974, \"sum\": 0.035531996821414974, \"min\": 0.035531996821414974}}, \"EndTime\": 1585774989.915416, \"Dimensions\": {\"model\": 17, \"Host\": \"algo-1\", \"Operation\": \"training\", \"Algorithm\": \"Linear Learner\", \"epoch\": 0}, \"StartTime\": 1585774989.915398}\n",
      "\u001b[0m\n",
      "\u001b[34m#metrics {\"Metrics\": {\"train_binary_classification_cross_entropy_objective\": {\"count\": 1, \"max\": 0.037338583417501375, \"sum\": 0.037338583417501375, \"min\": 0.037338583417501375}}, \"EndTime\": 1585774989.915473, \"Dimensions\": {\"model\": 18, \"Host\": \"algo-1\", \"Operation\": \"training\", \"Algorithm\": \"Linear Learner\", \"epoch\": 0}, \"StartTime\": 1585774989.915458}\n",
      "\u001b[0m\n",
      "\u001b[34m#metrics {\"Metrics\": {\"train_binary_classification_cross_entropy_objective\": {\"count\": 1, \"max\": 0.03552557384435254, \"sum\": 0.03552557384435254, \"min\": 0.03552557384435254}}, \"EndTime\": 1585774989.915533, \"Dimensions\": {\"model\": 19, \"Host\": \"algo-1\", \"Operation\": \"training\", \"Algorithm\": \"Linear Learner\", \"epoch\": 0}, \"StartTime\": 1585774989.915515}\n",
      "\u001b[0m\n",
      "\u001b[34m#metrics {\"Metrics\": {\"train_binary_classification_cross_entropy_objective\": {\"count\": 1, \"max\": 0.00890441027307245, \"sum\": 0.00890441027307245, \"min\": 0.00890441027307245}}, \"EndTime\": 1585774989.915597, \"Dimensions\": {\"model\": 20, \"Host\": \"algo-1\", \"Operation\": \"training\", \"Algorithm\": \"Linear Learner\", \"epoch\": 0}, \"StartTime\": 1585774989.915585}\n",
      "\u001b[0m\n",
      "\u001b[34m#metrics {\"Metrics\": {\"train_binary_classification_cross_entropy_objective\": {\"count\": 1, \"max\": 0.008944075392753329, \"sum\": 0.008944075392753329, \"min\": 0.008944075392753329}}, \"EndTime\": 1585774989.915645, \"Dimensions\": {\"model\": 21, \"Host\": \"algo-1\", \"Operation\": \"training\", \"Algorithm\": \"Linear Learner\", \"epoch\": 0}, \"StartTime\": 1585774989.91563}\n",
      "\u001b[0m\n",
      "\u001b[34m#metrics {\"Metrics\": {\"train_binary_classification_cross_entropy_objective\": {\"count\": 1, \"max\": 0.008928183163318865, \"sum\": 0.008928183163318865, \"min\": 0.008928183163318865}}, \"EndTime\": 1585774989.915714, \"Dimensions\": {\"model\": 22, \"Host\": \"algo-1\", \"Operation\": \"training\", \"Algorithm\": \"Linear Learner\", \"epoch\": 0}, \"StartTime\": 1585774989.915695}\n",
      "\u001b[0m\n",
      "\u001b[34m#metrics {\"Metrics\": {\"train_binary_classification_cross_entropy_objective\": {\"count\": 1, \"max\": 0.00894897295677883, \"sum\": 0.00894897295677883, \"min\": 0.00894897295677883}}, \"EndTime\": 1585774989.915772, \"Dimensions\": {\"model\": 23, \"Host\": \"algo-1\", \"Operation\": \"training\", \"Algorithm\": \"Linear Learner\", \"epoch\": 0}, \"StartTime\": 1585774989.915756}\n",
      "\u001b[0m\n",
      "\u001b[34m#metrics {\"Metrics\": {\"train_binary_classification_cross_entropy_objective\": {\"count\": 1, \"max\": 0.037283326017692735, \"sum\": 0.037283326017692735, \"min\": 0.037283326017692735}}, \"EndTime\": 1585774989.915839, \"Dimensions\": {\"model\": 24, \"Host\": \"algo-1\", \"Operation\": \"training\", \"Algorithm\": \"Linear Learner\", \"epoch\": 0}, \"StartTime\": 1585774989.915821}\n",
      "\u001b[0m\n",
      "\u001b[34m#metrics {\"Metrics\": {\"train_binary_classification_cross_entropy_objective\": {\"count\": 1, \"max\": 0.03554847813622102, \"sum\": 0.03554847813622102, \"min\": 0.03554847813622102}}, \"EndTime\": 1585774989.915891, \"Dimensions\": {\"model\": 25, \"Host\": \"algo-1\", \"Operation\": \"training\", \"Algorithm\": \"Linear Learner\", \"epoch\": 0}, \"StartTime\": 1585774989.91588}\n",
      "\u001b[0m\n",
      "\u001b[34m#metrics {\"Metrics\": {\"train_binary_classification_cross_entropy_objective\": {\"count\": 1, \"max\": 0.03730688705545384, \"sum\": 0.03730688705545384, \"min\": 0.03730688705545384}}, \"EndTime\": 1585774989.915921, \"Dimensions\": {\"model\": 26, \"Host\": \"algo-1\", \"Operation\": \"training\", \"Algorithm\": \"Linear Learner\", \"epoch\": 0}, \"StartTime\": 1585774989.915913}\n",
      "\u001b[0m\n",
      "\u001b[34m#metrics {\"Metrics\": {\"train_binary_classification_cross_entropy_objective\": {\"count\": 1, \"max\": 0.035542154944366335, \"sum\": 0.035542154944366335, \"min\": 0.035542154944366335}}, \"EndTime\": 1585774989.915972, \"Dimensions\": {\"model\": 27, \"Host\": \"algo-1\", \"Operation\": \"training\", \"Algorithm\": \"Linear Learner\", \"epoch\": 0}, \"StartTime\": 1585774989.915956}\n",
      "\u001b[0m\n",
      "\u001b[34m#metrics {\"Metrics\": {\"train_binary_classification_cross_entropy_objective\": {\"count\": 1, \"max\": 0.008787764477386712, \"sum\": 0.008787764477386712, \"min\": 0.008787764477386712}}, \"EndTime\": 1585774989.91603, \"Dimensions\": {\"model\": 28, \"Host\": \"algo-1\", \"Operation\": \"training\", \"Algorithm\": \"Linear Learner\", \"epoch\": 0}, \"StartTime\": 1585774989.916019}\n",
      "\u001b[0m\n",
      "\u001b[34m#metrics {\"Metrics\": {\"train_binary_classification_cross_entropy_objective\": {\"count\": 1, \"max\": 0.008838511613610479, \"sum\": 0.008838511613610479, \"min\": 0.008838511613610479}}, \"EndTime\": 1585774989.91609, \"Dimensions\": {\"model\": 29, \"Host\": \"algo-1\", \"Operation\": \"training\", \"Algorithm\": \"Linear Learner\", \"epoch\": 0}, \"StartTime\": 1585774989.916073}\n",
      "\u001b[0m\n",
      "\u001b[34m#metrics {\"Metrics\": {\"train_binary_classification_cross_entropy_objective\": {\"count\": 1, \"max\": 0.008794095806211003, \"sum\": 0.008794095806211003, \"min\": 0.008794095806211003}}, \"EndTime\": 1585774989.916151, \"Dimensions\": {\"model\": 30, \"Host\": \"algo-1\", \"Operation\": \"training\", \"Algorithm\": \"Linear Learner\", \"epoch\": 0}, \"StartTime\": 1585774989.916134}\n",
      "\u001b[0m\n",
      "\u001b[34m#metrics {\"Metrics\": {\"train_binary_classification_cross_entropy_objective\": {\"count\": 1, \"max\": 0.008851634082907144, \"sum\": 0.008851634082907144, \"min\": 0.008851634082907144}}, \"EndTime\": 1585774989.916208, \"Dimensions\": {\"model\": 31, \"Host\": \"algo-1\", \"Operation\": \"training\", \"Algorithm\": \"Linear Learner\", \"epoch\": 0}, \"StartTime\": 1585774989.916192}\n",
      "\u001b[0m\n",
      "\u001b[34m[04/01/2020 21:03:09 INFO 139768273004352] #quality_metric: host=algo-1, epoch=0, train binary_classification_cross_entropy_objective <loss>=0.0372303991182\u001b[0m\n",
      "\u001b[34m[04/01/2020 21:03:09 INFO 139768273004352] #early_stopping_criteria_metric: host=algo-1, epoch=0, criteria=binary_classification_cross_entropy_objective, value=0.00878776447739\u001b[0m\n",
      "\u001b[34m[04/01/2020 21:03:09 INFO 139768273004352] Epoch 0: Loss improved. Updating best model\u001b[0m\n",
      "\u001b[34m[04/01/2020 21:03:09 INFO 139768273004352] #progress_metric: host=algo-1, completed 20 % of epochs\u001b[0m\n",
      "\u001b[34m#metrics {\"Metrics\": {\"Max Batches Seen Between Resets\": {\"count\": 1, \"max\": 874, \"sum\": 874.0, \"min\": 874}, \"Number of Batches Since Last Reset\": {\"count\": 1, \"max\": 874, \"sum\": 874.0, \"min\": 874}, \"Number of Records Since Last Reset\": {\"count\": 1, \"max\": 87307, \"sum\": 87307.0, \"min\": 87307}, \"Total Batches Seen\": {\"count\": 1, \"max\": 976, \"sum\": 976.0, \"min\": 976}, \"Total Records Seen\": {\"count\": 1, \"max\": 97507, \"sum\": 97507.0, \"min\": 97507}, \"Max Records Seen Between Resets\": {\"count\": 1, \"max\": 87307, \"sum\": 87307.0, \"min\": 87307}, \"Reset Count\": {\"count\": 1, \"max\": 3, \"sum\": 3.0, \"min\": 3}}, \"EndTime\": 1585774989.919215, \"Dimensions\": {\"Host\": \"algo-1\", \"Meta\": \"training_data_iter\", \"Operation\": \"training\", \"Algorithm\": \"Linear Learner\", \"epoch\": 0}, \"StartTime\": 1585774965.483375}\n",
      "\u001b[0m\n",
      "\u001b[34m[04/01/2020 21:03:09 INFO 139768273004352] #throughput_metric: host=algo-1, train throughput=3572.89056291 records/second\u001b[0m\n"
     ]
    },
    {
     "name": "stdout",
     "output_type": "stream",
     "text": [
      "\u001b[34m[2020-04-01 21:03:34.235] [tensorio] [info] epoch_stats={\"data_pipeline\": \"/opt/ml/input/data/train\", \"epoch\": 5, \"duration\": 24315, \"num_examples\": 874, \"num_bytes\": 6984560}\u001b[0m\n",
      "\u001b[34m#metrics {\"Metrics\": {\"train_binary_classification_cross_entropy_objective\": {\"count\": 1, \"max\": 0.007580206176054846, \"sum\": 0.007580206176054846, \"min\": 0.007580206176054846}}, \"EndTime\": 1585775014.235326, \"Dimensions\": {\"model\": 0, \"Host\": \"algo-1\", \"Operation\": \"training\", \"Algorithm\": \"Linear Learner\", \"epoch\": 1}, \"StartTime\": 1585775014.235236}\n",
      "\u001b[0m\n",
      "\u001b[34m#metrics {\"Metrics\": {\"train_binary_classification_cross_entropy_objective\": {\"count\": 1, \"max\": 0.006983206445118679, \"sum\": 0.006983206445118679, \"min\": 0.006983206445118679}}, \"EndTime\": 1585775014.235413, \"Dimensions\": {\"model\": 1, \"Host\": \"algo-1\", \"Operation\": \"training\", \"Algorithm\": \"Linear Learner\", \"epoch\": 1}, \"StartTime\": 1585775014.235391}\n",
      "\u001b[0m\n",
      "\u001b[34m#metrics {\"Metrics\": {\"train_binary_classification_cross_entropy_objective\": {\"count\": 1, \"max\": 0.007583117968438007, \"sum\": 0.007583117968438007, \"min\": 0.007583117968438007}}, \"EndTime\": 1585775014.235473, \"Dimensions\": {\"model\": 2, \"Host\": \"algo-1\", \"Operation\": \"training\", \"Algorithm\": \"Linear Learner\", \"epoch\": 1}, \"StartTime\": 1585775014.235461}\n",
      "\u001b[0m\n",
      "\u001b[34m#metrics {\"Metrics\": {\"train_binary_classification_cross_entropy_objective\": {\"count\": 1, \"max\": 0.0069856860668730215, \"sum\": 0.0069856860668730215, \"min\": 0.0069856860668730215}}, \"EndTime\": 1585775014.235515, \"Dimensions\": {\"model\": 3, \"Host\": \"algo-1\", \"Operation\": \"training\", \"Algorithm\": \"Linear Learner\", \"epoch\": 1}, \"StartTime\": 1585775014.2355}\n",
      "\u001b[0m\n",
      "\u001b[34m#metrics {\"Metrics\": {\"train_binary_classification_cross_entropy_objective\": {\"count\": 1, \"max\": 0.008343289095571292, \"sum\": 0.008343289095571292, \"min\": 0.008343289095571292}}, \"EndTime\": 1585775014.235578, \"Dimensions\": {\"model\": 4, \"Host\": \"algo-1\", \"Operation\": \"training\", \"Algorithm\": \"Linear Learner\", \"epoch\": 1}, \"StartTime\": 1585775014.235565}\n",
      "\u001b[0m\n",
      "\u001b[34m#metrics {\"Metrics\": {\"train_binary_classification_cross_entropy_objective\": {\"count\": 1, \"max\": 0.00982182037796855, \"sum\": 0.00982182037796855, \"min\": 0.00982182037796855}}, \"EndTime\": 1585775014.235644, \"Dimensions\": {\"model\": 5, \"Host\": \"algo-1\", \"Operation\": \"training\", \"Algorithm\": \"Linear Learner\", \"epoch\": 1}, \"StartTime\": 1585775014.235626}\n",
      "\u001b[0m\n",
      "\u001b[34m#metrics {\"Metrics\": {\"train_binary_classification_cross_entropy_objective\": {\"count\": 1, \"max\": 0.008545233264633743, \"sum\": 0.008545233264633743, \"min\": 0.008545233264633743}}, \"EndTime\": 1585775014.235708, \"Dimensions\": {\"model\": 6, \"Host\": \"algo-1\", \"Operation\": \"training\", \"Algorithm\": \"Linear Learner\", \"epoch\": 1}, \"StartTime\": 1585775014.235693}\n",
      "\u001b[0m\n",
      "\u001b[34m#metrics {\"Metrics\": {\"train_binary_classification_cross_entropy_objective\": {\"count\": 1, \"max\": 0.010247387838611786, \"sum\": 0.010247387838611786, \"min\": 0.010247387838611786}}, \"EndTime\": 1585775014.235769, \"Dimensions\": {\"model\": 7, \"Host\": \"algo-1\", \"Operation\": \"training\", \"Algorithm\": \"Linear Learner\", \"epoch\": 1}, \"StartTime\": 1585775014.235753}\n",
      "\u001b[0m\n",
      "\u001b[34m#metrics {\"Metrics\": {\"train_binary_classification_cross_entropy_objective\": {\"count\": 1, \"max\": 0.007607720266912401, \"sum\": 0.007607720266912401, \"min\": 0.007607720266912401}}, \"EndTime\": 1585775014.23583, \"Dimensions\": {\"model\": 8, \"Host\": \"algo-1\", \"Operation\": \"training\", \"Algorithm\": \"Linear Learner\", \"epoch\": 1}, \"StartTime\": 1585775014.235814}\n",
      "\u001b[0m\n",
      "\u001b[34m#metrics {\"Metrics\": {\"train_binary_classification_cross_entropy_objective\": {\"count\": 1, \"max\": 0.007005400816906768, \"sum\": 0.007005400816906768, \"min\": 0.007005400816906768}}, \"EndTime\": 1585775014.235892, \"Dimensions\": {\"model\": 9, \"Host\": \"algo-1\", \"Operation\": \"training\", \"Algorithm\": \"Linear Learner\", \"epoch\": 1}, \"StartTime\": 1585775014.235875}\n",
      "\u001b[0m\n",
      "\u001b[34m#metrics {\"Metrics\": {\"train_binary_classification_cross_entropy_objective\": {\"count\": 1, \"max\": 0.007608388359194359, \"sum\": 0.007608388359194359, \"min\": 0.007608388359194359}}, \"EndTime\": 1585775014.235953, \"Dimensions\": {\"model\": 10, \"Host\": \"algo-1\", \"Operation\": \"training\", \"Algorithm\": \"Linear Learner\", \"epoch\": 1}, \"StartTime\": 1585775014.235936}\n",
      "\u001b[0m\n",
      "\u001b[34m#metrics {\"Metrics\": {\"train_binary_classification_cross_entropy_objective\": {\"count\": 1, \"max\": 0.007005387233465671, \"sum\": 0.007005387233465671, \"min\": 0.007005387233465671}}, \"EndTime\": 1585775014.236013, \"Dimensions\": {\"model\": 11, \"Host\": \"algo-1\", \"Operation\": \"training\", \"Algorithm\": \"Linear Learner\", \"epoch\": 1}, \"StartTime\": 1585775014.235997}\n",
      "\u001b[0m\n",
      "\u001b[34m#metrics {\"Metrics\": {\"train_binary_classification_cross_entropy_objective\": {\"count\": 1, \"max\": 0.007692927763224468, \"sum\": 0.007692927763224468, \"min\": 0.007692927763224468}}, \"EndTime\": 1585775014.23608, \"Dimensions\": {\"model\": 12, \"Host\": \"algo-1\", \"Operation\": \"training\", \"Algorithm\": \"Linear Learner\", \"epoch\": 1}, \"StartTime\": 1585775014.236063}\n",
      "\u001b[0m\n",
      "\u001b[34m#metrics {\"Metrics\": {\"train_binary_classification_cross_entropy_objective\": {\"count\": 1, \"max\": 0.009168154501077748, \"sum\": 0.009168154501077748, \"min\": 0.009168154501077748}}, \"EndTime\": 1585775014.236142, \"Dimensions\": {\"model\": 13, \"Host\": \"algo-1\", \"Operation\": \"training\", \"Algorithm\": \"Linear Learner\", \"epoch\": 1}, \"StartTime\": 1585775014.236116}\n",
      "\u001b[0m\n",
      "\u001b[34m#metrics {\"Metrics\": {\"train_binary_classification_cross_entropy_objective\": {\"count\": 1, \"max\": 0.007684954474600115, \"sum\": 0.007684954474600115, \"min\": 0.007684954474600115}}, \"EndTime\": 1585775014.236199, \"Dimensions\": {\"model\": 14, \"Host\": \"algo-1\", \"Operation\": \"training\", \"Algorithm\": \"Linear Learner\", \"epoch\": 1}, \"StartTime\": 1585775014.236182}\n",
      "\u001b[0m\n",
      "\u001b[34m#metrics {\"Metrics\": {\"train_binary_classification_cross_entropy_objective\": {\"count\": 1, \"max\": 0.009171558664684939, \"sum\": 0.009171558664684939, \"min\": 0.009171558664684939}}, \"EndTime\": 1585775014.236258, \"Dimensions\": {\"model\": 15, \"Host\": \"algo-1\", \"Operation\": \"training\", \"Algorithm\": \"Linear Learner\", \"epoch\": 1}, \"StartTime\": 1585775014.236241}\n",
      "\u001b[0m\n",
      "\u001b[34m#metrics {\"Metrics\": {\"train_binary_classification_cross_entropy_objective\": {\"count\": 1, \"max\": 0.007963061253673569, \"sum\": 0.007963061253673569, \"min\": 0.007963061253673569}}, \"EndTime\": 1585775014.236317, \"Dimensions\": {\"model\": 16, \"Host\": \"algo-1\", \"Operation\": \"training\", \"Algorithm\": \"Linear Learner\", \"epoch\": 1}, \"StartTime\": 1585775014.2363}\n",
      "\u001b[0m\n",
      "\u001b[34m#metrics {\"Metrics\": {\"train_binary_classification_cross_entropy_objective\": {\"count\": 1, \"max\": 0.007269891469748979, \"sum\": 0.007269891469748979, \"min\": 0.007269891469748979}}, \"EndTime\": 1585775014.236385, \"Dimensions\": {\"model\": 17, \"Host\": \"algo-1\", \"Operation\": \"training\", \"Algorithm\": \"Linear Learner\", \"epoch\": 1}, \"StartTime\": 1585775014.236367}\n",
      "\u001b[0m\n",
      "\u001b[34m#metrics {\"Metrics\": {\"train_binary_classification_cross_entropy_objective\": {\"count\": 1, \"max\": 0.007964121821034542, \"sum\": 0.007964121821034542, \"min\": 0.007964121821034542}}, \"EndTime\": 1585775014.236452, \"Dimensions\": {\"model\": 18, \"Host\": \"algo-1\", \"Operation\": \"training\", \"Algorithm\": \"Linear Learner\", \"epoch\": 1}, \"StartTime\": 1585775014.236434}\n",
      "\u001b[0m\n",
      "\u001b[34m#metrics {\"Metrics\": {\"train_binary_classification_cross_entropy_objective\": {\"count\": 1, \"max\": 0.007269765978928693, \"sum\": 0.007269765978928693, \"min\": 0.007269765978928693}}, \"EndTime\": 1585775014.236522, \"Dimensions\": {\"model\": 19, \"Host\": \"algo-1\", \"Operation\": \"training\", \"Algorithm\": \"Linear Learner\", \"epoch\": 1}, \"StartTime\": 1585775014.236503}\n",
      "\u001b[0m\n",
      "\u001b[34m#metrics {\"Metrics\": {\"train_binary_classification_cross_entropy_objective\": {\"count\": 1, \"max\": 0.007123343483603561, \"sum\": 0.007123343483603561, \"min\": 0.007123343483603561}}, \"EndTime\": 1585775014.236584, \"Dimensions\": {\"model\": 20, \"Host\": \"algo-1\", \"Operation\": \"training\", \"Algorithm\": \"Linear Learner\", \"epoch\": 1}, \"StartTime\": 1585775014.236567}\n",
      "\u001b[0m\n",
      "\u001b[34m#metrics {\"Metrics\": {\"train_binary_classification_cross_entropy_objective\": {\"count\": 1, \"max\": 0.007474780223499834, \"sum\": 0.007474780223499834, \"min\": 0.007474780223499834}}, \"EndTime\": 1585775014.23665, \"Dimensions\": {\"model\": 21, \"Host\": \"algo-1\", \"Operation\": \"training\", \"Algorithm\": \"Linear Learner\", \"epoch\": 1}, \"StartTime\": 1585775014.236634}\n",
      "\u001b[0m\n",
      "\u001b[34m#metrics {\"Metrics\": {\"train_binary_classification_cross_entropy_objective\": {\"count\": 1, \"max\": 0.007122915696869055, \"sum\": 0.007122915696869055, \"min\": 0.007122915696869055}}, \"EndTime\": 1585775014.236732, \"Dimensions\": {\"model\": 22, \"Host\": \"algo-1\", \"Operation\": \"training\", \"Algorithm\": \"Linear Learner\", \"epoch\": 1}, \"StartTime\": 1585775014.236713}\n",
      "\u001b[0m\n",
      "\u001b[34m#metrics {\"Metrics\": {\"train_binary_classification_cross_entropy_objective\": {\"count\": 1, \"max\": 0.0074764981389233475, \"sum\": 0.0074764981389233475, \"min\": 0.0074764981389233475}}, \"EndTime\": 1585775014.236787, \"Dimensions\": {\"model\": 23, \"Host\": \"algo-1\", \"Operation\": \"training\", \"Algorithm\": \"Linear Learner\", \"epoch\": 1}, \"StartTime\": 1585775014.236772}\n",
      "\u001b[0m\n",
      "\u001b[34m#metrics {\"Metrics\": {\"train_binary_classification_cross_entropy_objective\": {\"count\": 1, \"max\": 0.007974144715521344, \"sum\": 0.007974144715521344, \"min\": 0.007974144715521344}}, \"EndTime\": 1585775014.236845, \"Dimensions\": {\"model\": 24, \"Host\": \"algo-1\", \"Operation\": \"training\", \"Algorithm\": \"Linear Learner\", \"epoch\": 1}, \"StartTime\": 1585775014.236828}\n",
      "\u001b[0m\n",
      "\u001b[34m#metrics {\"Metrics\": {\"train_binary_classification_cross_entropy_objective\": {\"count\": 1, \"max\": 0.00728300296512666, \"sum\": 0.00728300296512666, \"min\": 0.00728300296512666}}, \"EndTime\": 1585775014.236905, \"Dimensions\": {\"model\": 25, \"Host\": \"algo-1\", \"Operation\": \"training\", \"Algorithm\": \"Linear Learner\", \"epoch\": 1}, \"StartTime\": 1585775014.23689}\n",
      "\u001b[0m\n",
      "\u001b[34m#metrics {\"Metrics\": {\"train_binary_classification_cross_entropy_objective\": {\"count\": 1, \"max\": 0.007974797180189163, \"sum\": 0.007974797180189163, \"min\": 0.007974797180189163}}, \"EndTime\": 1585775014.236958, \"Dimensions\": {\"model\": 26, \"Host\": \"algo-1\", \"Operation\": \"training\", \"Algorithm\": \"Linear Learner\", \"epoch\": 1}, \"StartTime\": 1585775014.236942}\n",
      "\u001b[0m\n",
      "\u001b[34m#metrics {\"Metrics\": {\"train_binary_classification_cross_entropy_objective\": {\"count\": 1, \"max\": 0.0072830082649388535, \"sum\": 0.0072830082649388535, \"min\": 0.0072830082649388535}}, \"EndTime\": 1585775014.237022, \"Dimensions\": {\"model\": 27, \"Host\": \"algo-1\", \"Operation\": \"training\", \"Algorithm\": \"Linear Learner\", \"epoch\": 1}, \"StartTime\": 1585775014.237005}\n",
      "\u001b[0m\n",
      "\u001b[34m#metrics {\"Metrics\": {\"train_binary_classification_cross_entropy_objective\": {\"count\": 1, \"max\": 0.007077062958584755, \"sum\": 0.007077062958584755, \"min\": 0.007077062958584755}}, \"EndTime\": 1585775014.237084, \"Dimensions\": {\"model\": 28, \"Host\": \"algo-1\", \"Operation\": \"training\", \"Algorithm\": \"Linear Learner\", \"epoch\": 1}, \"StartTime\": 1585775014.237067}\n",
      "\u001b[0m\n",
      "\u001b[34m#metrics {\"Metrics\": {\"train_binary_classification_cross_entropy_objective\": {\"count\": 1, \"max\": 0.007243995866444888, \"sum\": 0.007243995866444888, \"min\": 0.007243995866444888}}, \"EndTime\": 1585775014.237145, \"Dimensions\": {\"model\": 29, \"Host\": \"algo-1\", \"Operation\": \"training\", \"Algorithm\": \"Linear Learner\", \"epoch\": 1}, \"StartTime\": 1585775014.237128}\n",
      "\u001b[0m\n",
      "\u001b[34m#metrics {\"Metrics\": {\"train_binary_classification_cross_entropy_objective\": {\"count\": 1, \"max\": 0.007076168148549016, \"sum\": 0.007076168148549016, \"min\": 0.007076168148549016}}, \"EndTime\": 1585775014.237205, \"Dimensions\": {\"model\": 30, \"Host\": \"algo-1\", \"Operation\": \"training\", \"Algorithm\": \"Linear Learner\", \"epoch\": 1}, \"StartTime\": 1585775014.237188}\n",
      "\u001b[0m\n",
      "\u001b[34m#metrics {\"Metrics\": {\"train_binary_classification_cross_entropy_objective\": {\"count\": 1, \"max\": 0.007243694113642148, \"sum\": 0.007243694113642148, \"min\": 0.007243694113642148}}, \"EndTime\": 1585775014.237262, \"Dimensions\": {\"model\": 31, \"Host\": \"algo-1\", \"Operation\": \"training\", \"Algorithm\": \"Linear Learner\", \"epoch\": 1}, \"StartTime\": 1585775014.237245}\n",
      "\u001b[0m\n",
      "\u001b[34m[04/01/2020 21:03:34 INFO 139768273004352] #quality_metric: host=algo-1, epoch=1, train binary_classification_cross_entropy_objective <loss>=0.00758020617605\u001b[0m\n",
      "\u001b[34m[04/01/2020 21:03:34 INFO 139768273004352] #early_stopping_criteria_metric: host=algo-1, epoch=1, criteria=binary_classification_cross_entropy_objective, value=0.00698320644512\u001b[0m\n",
      "\u001b[34m[04/01/2020 21:03:34 INFO 139768273004352] Epoch 1: Loss improved. Updating best model\u001b[0m\n",
      "\u001b[34m[04/01/2020 21:03:34 INFO 139768273004352] #progress_metric: host=algo-1, completed 40 % of epochs\u001b[0m\n",
      "\u001b[34m#metrics {\"Metrics\": {\"Max Batches Seen Between Resets\": {\"count\": 1, \"max\": 874, \"sum\": 874.0, \"min\": 874}, \"Number of Batches Since Last Reset\": {\"count\": 1, \"max\": 874, \"sum\": 874.0, \"min\": 874}, \"Number of Records Since Last Reset\": {\"count\": 1, \"max\": 87307, \"sum\": 87307.0, \"min\": 87307}, \"Total Batches Seen\": {\"count\": 1, \"max\": 1850, \"sum\": 1850.0, \"min\": 1850}, \"Total Records Seen\": {\"count\": 1, \"max\": 184814, \"sum\": 184814.0, \"min\": 184814}, \"Max Records Seen Between Resets\": {\"count\": 1, \"max\": 87307, \"sum\": 87307.0, \"min\": 87307}, \"Reset Count\": {\"count\": 1, \"max\": 4, \"sum\": 4.0, \"min\": 4}}, \"EndTime\": 1585775014.239894, \"Dimensions\": {\"Host\": \"algo-1\", \"Meta\": \"training_data_iter\", \"Operation\": \"training\", \"Algorithm\": \"Linear Learner\", \"epoch\": 1}, \"StartTime\": 1585774989.919722}\n",
      "\u001b[0m\n",
      "\u001b[34m[04/01/2020 21:03:34 INFO 139768273004352] #throughput_metric: host=algo-1, train throughput=3589.88270926 records/second\u001b[0m\n"
     ]
    },
    {
     "name": "stdout",
     "output_type": "stream",
     "text": [
      "\u001b[34m[2020-04-01 21:03:58.291] [tensorio] [info] epoch_stats={\"data_pipeline\": \"/opt/ml/input/data/train\", \"epoch\": 7, \"duration\": 24050, \"num_examples\": 874, \"num_bytes\": 6984560}\u001b[0m\n",
      "\u001b[34m#metrics {\"Metrics\": {\"train_binary_classification_cross_entropy_objective\": {\"count\": 1, \"max\": 0.006899027277343189, \"sum\": 0.006899027277343189, \"min\": 0.006899027277343189}}, \"EndTime\": 1585775038.291154, \"Dimensions\": {\"model\": 0, \"Host\": \"algo-1\", \"Operation\": \"training\", \"Algorithm\": \"Linear Learner\", \"epoch\": 2}, \"StartTime\": 1585775038.291063}\n",
      "\u001b[0m\n",
      "\u001b[34m#metrics {\"Metrics\": {\"train_binary_classification_cross_entropy_objective\": {\"count\": 1, \"max\": 0.00666336939131408, \"sum\": 0.00666336939131408, \"min\": 0.00666336939131408}}, \"EndTime\": 1585775038.291252, \"Dimensions\": {\"model\": 1, \"Host\": \"algo-1\", \"Operation\": \"training\", \"Algorithm\": \"Linear Learner\", \"epoch\": 2}, \"StartTime\": 1585775038.291231}\n",
      "\u001b[0m\n",
      "\u001b[34m#metrics {\"Metrics\": {\"train_binary_classification_cross_entropy_objective\": {\"count\": 1, \"max\": 0.006898701986701218, \"sum\": 0.006898701986701218, \"min\": 0.006898701986701218}}, \"EndTime\": 1585775038.29131, \"Dimensions\": {\"model\": 2, \"Host\": \"algo-1\", \"Operation\": \"training\", \"Algorithm\": \"Linear Learner\", \"epoch\": 2}, \"StartTime\": 1585775038.291293}\n",
      "\u001b[0m\n",
      "\u001b[34m#metrics {\"Metrics\": {\"train_binary_classification_cross_entropy_objective\": {\"count\": 1, \"max\": 0.006655145928451422, \"sum\": 0.006655145928451422, \"min\": 0.006655145928451422}}, \"EndTime\": 1585775038.291378, \"Dimensions\": {\"model\": 3, \"Host\": \"algo-1\", \"Operation\": \"training\", \"Algorithm\": \"Linear Learner\", \"epoch\": 2}, \"StartTime\": 1585775038.291362}\n",
      "\u001b[0m\n",
      "\u001b[34m#metrics {\"Metrics\": {\"train_binary_classification_cross_entropy_objective\": {\"count\": 1, \"max\": 0.007584401678042177, \"sum\": 0.007584401678042177, \"min\": 0.007584401678042177}}, \"EndTime\": 1585775038.291437, \"Dimensions\": {\"model\": 4, \"Host\": \"algo-1\", \"Operation\": \"training\", \"Algorithm\": \"Linear Learner\", \"epoch\": 2}, \"StartTime\": 1585775038.291423}\n",
      "\u001b[0m\n",
      "\u001b[34m#metrics {\"Metrics\": {\"train_binary_classification_cross_entropy_objective\": {\"count\": 1, \"max\": 0.010056729579100627, \"sum\": 0.010056729579100627, \"min\": 0.010056729579100627}}, \"EndTime\": 1585775038.291479, \"Dimensions\": {\"model\": 5, \"Host\": \"algo-1\", \"Operation\": \"training\", \"Algorithm\": \"Linear Learner\", \"epoch\": 2}, \"StartTime\": 1585775038.291465}\n",
      "\u001b[0m\n",
      "\u001b[34m#metrics {\"Metrics\": {\"train_binary_classification_cross_entropy_objective\": {\"count\": 1, \"max\": 0.007615582025124514, \"sum\": 0.007615582025124514, \"min\": 0.007615582025124514}}, \"EndTime\": 1585775038.291539, \"Dimensions\": {\"model\": 6, \"Host\": \"algo-1\", \"Operation\": \"training\", \"Algorithm\": \"Linear Learner\", \"epoch\": 2}, \"StartTime\": 1585775038.291522}\n",
      "\u001b[0m\n",
      "\u001b[34m#metrics {\"Metrics\": {\"train_binary_classification_cross_entropy_objective\": {\"count\": 1, \"max\": 0.010039372279413816, \"sum\": 0.010039372279413816, \"min\": 0.010039372279413816}}, \"EndTime\": 1585775038.291602, \"Dimensions\": {\"model\": 7, \"Host\": \"algo-1\", \"Operation\": \"training\", \"Algorithm\": \"Linear Learner\", \"epoch\": 2}, \"StartTime\": 1585775038.291585}\n",
      "\u001b[0m\n",
      "\u001b[34m#metrics {\"Metrics\": {\"train_binary_classification_cross_entropy_objective\": {\"count\": 1, \"max\": 0.006935979117642563, \"sum\": 0.006935979117642563, \"min\": 0.006935979117642563}}, \"EndTime\": 1585775038.291666, \"Dimensions\": {\"model\": 8, \"Host\": \"algo-1\", \"Operation\": \"training\", \"Algorithm\": \"Linear Learner\", \"epoch\": 2}, \"StartTime\": 1585775038.291648}\n",
      "\u001b[0m\n",
      "\u001b[34m#metrics {\"Metrics\": {\"train_binary_classification_cross_entropy_objective\": {\"count\": 1, \"max\": 0.0066900243197929405, \"sum\": 0.0066900243197929405, \"min\": 0.0066900243197929405}}, \"EndTime\": 1585775038.291724, \"Dimensions\": {\"model\": 9, \"Host\": \"algo-1\", \"Operation\": \"training\", \"Algorithm\": \"Linear Learner\", \"epoch\": 2}, \"StartTime\": 1585775038.291707}\n",
      "\u001b[0m\n",
      "\u001b[34m#metrics {\"Metrics\": {\"train_binary_classification_cross_entropy_objective\": {\"count\": 1, \"max\": 0.006936438189305254, \"sum\": 0.006936438189305254, \"min\": 0.006936438189305254}}, \"EndTime\": 1585775038.291775, \"Dimensions\": {\"model\": 10, \"Host\": \"algo-1\", \"Operation\": \"training\", \"Algorithm\": \"Linear Learner\", \"epoch\": 2}, \"StartTime\": 1585775038.291759}\n",
      "\u001b[0m\n",
      "\u001b[34m#metrics {\"Metrics\": {\"train_binary_classification_cross_entropy_objective\": {\"count\": 1, \"max\": 0.00668978859400558, \"sum\": 0.00668978859400558, \"min\": 0.00668978859400558}}, \"EndTime\": 1585775038.291842, \"Dimensions\": {\"model\": 11, \"Host\": \"algo-1\", \"Operation\": \"training\", \"Algorithm\": \"Linear Learner\", \"epoch\": 2}, \"StartTime\": 1585775038.291825}\n",
      "\u001b[0m\n",
      "\u001b[34m#metrics {\"Metrics\": {\"train_binary_classification_cross_entropy_objective\": {\"count\": 1, \"max\": 0.006996918873901971, \"sum\": 0.006996918873901971, \"min\": 0.006996918873901971}}, \"EndTime\": 1585775038.291914, \"Dimensions\": {\"model\": 12, \"Host\": \"algo-1\", \"Operation\": \"training\", \"Algorithm\": \"Linear Learner\", \"epoch\": 2}, \"StartTime\": 1585775038.291896}\n",
      "\u001b[0m\n",
      "\u001b[34m#metrics {\"Metrics\": {\"train_binary_classification_cross_entropy_objective\": {\"count\": 1, \"max\": 0.009179892505936213, \"sum\": 0.009179892505936213, \"min\": 0.009179892505936213}}, \"EndTime\": 1585775038.291976, \"Dimensions\": {\"model\": 13, \"Host\": \"algo-1\", \"Operation\": \"training\", \"Algorithm\": \"Linear Learner\", \"epoch\": 2}, \"StartTime\": 1585775038.291958}\n",
      "\u001b[0m\n",
      "\u001b[34m#metrics {\"Metrics\": {\"train_binary_classification_cross_entropy_objective\": {\"count\": 1, \"max\": 0.006995356172400037, \"sum\": 0.006995356172400037, \"min\": 0.006995356172400037}}, \"EndTime\": 1585775038.292035, \"Dimensions\": {\"model\": 14, \"Host\": \"algo-1\", \"Operation\": \"training\", \"Algorithm\": \"Linear Learner\", \"epoch\": 2}, \"StartTime\": 1585775038.292019}\n",
      "\u001b[0m\n",
      "\u001b[34m#metrics {\"Metrics\": {\"train_binary_classification_cross_entropy_objective\": {\"count\": 1, \"max\": 0.009175838437304754, \"sum\": 0.009175838437304754, \"min\": 0.009175838437304754}}, \"EndTime\": 1585775038.292094, \"Dimensions\": {\"model\": 15, \"Host\": \"algo-1\", \"Operation\": \"training\", \"Algorithm\": \"Linear Learner\", \"epoch\": 2}, \"StartTime\": 1585775038.292077}\n",
      "\u001b[0m\n",
      "\u001b[34m#metrics {\"Metrics\": {\"train_binary_classification_cross_entropy_objective\": {\"count\": 1, \"max\": 0.007376790019381634, \"sum\": 0.007376790019381634, \"min\": 0.007376790019381634}}, \"EndTime\": 1585775038.292155, \"Dimensions\": {\"model\": 16, \"Host\": \"algo-1\", \"Operation\": \"training\", \"Algorithm\": \"Linear Learner\", \"epoch\": 2}, \"StartTime\": 1585775038.292138}\n",
      "\u001b[0m\n",
      "\u001b[34m#metrics {\"Metrics\": {\"train_binary_classification_cross_entropy_objective\": {\"count\": 1, \"max\": 0.007014512681025683, \"sum\": 0.007014512681025683, \"min\": 0.007014512681025683}}, \"EndTime\": 1585775038.292222, \"Dimensions\": {\"model\": 17, \"Host\": \"algo-1\", \"Operation\": \"training\", \"Algorithm\": \"Linear Learner\", \"epoch\": 2}, \"StartTime\": 1585775038.292204}\n",
      "\u001b[0m\n",
      "\u001b[34m#metrics {\"Metrics\": {\"train_binary_classification_cross_entropy_objective\": {\"count\": 1, \"max\": 0.007377296699315548, \"sum\": 0.007377296699315548, \"min\": 0.007377296699315548}}, \"EndTime\": 1585775038.292288, \"Dimensions\": {\"model\": 18, \"Host\": \"algo-1\", \"Operation\": \"training\", \"Algorithm\": \"Linear Learner\", \"epoch\": 2}, \"StartTime\": 1585775038.292271}\n",
      "\u001b[0m\n",
      "\u001b[34m#metrics {\"Metrics\": {\"train_binary_classification_cross_entropy_objective\": {\"count\": 1, \"max\": 0.00701451605879291, \"sum\": 0.00701451605879291, \"min\": 0.00701451605879291}}, \"EndTime\": 1585775038.29234, \"Dimensions\": {\"model\": 19, \"Host\": \"algo-1\", \"Operation\": \"training\", \"Algorithm\": \"Linear Learner\", \"epoch\": 2}, \"StartTime\": 1585775038.292329}\n",
      "\u001b[0m\n",
      "\u001b[34m#metrics {\"Metrics\": {\"train_binary_classification_cross_entropy_objective\": {\"count\": 1, \"max\": 0.007041781208129068, \"sum\": 0.007041781208129068, \"min\": 0.007041781208129068}}, \"EndTime\": 1585775038.292394, \"Dimensions\": {\"model\": 20, \"Host\": \"algo-1\", \"Operation\": \"training\", \"Algorithm\": \"Linear Learner\", \"epoch\": 2}, \"StartTime\": 1585775038.292377}\n",
      "\u001b[0m\n",
      "\u001b[34m#metrics {\"Metrics\": {\"train_binary_classification_cross_entropy_objective\": {\"count\": 1, \"max\": 0.007557460015878628, \"sum\": 0.007557460015878628, \"min\": 0.007557460015878628}}, \"EndTime\": 1585775038.292438, \"Dimensions\": {\"model\": 21, \"Host\": \"algo-1\", \"Operation\": \"training\", \"Algorithm\": \"Linear Learner\", \"epoch\": 2}, \"StartTime\": 1585775038.292428}\n",
      "\u001b[0m\n",
      "\u001b[34m#metrics {\"Metrics\": {\"train_binary_classification_cross_entropy_objective\": {\"count\": 1, \"max\": 0.007041710370133833, \"sum\": 0.007041710370133833, \"min\": 0.007041710370133833}}, \"EndTime\": 1585775038.29249, \"Dimensions\": {\"model\": 22, \"Host\": \"algo-1\", \"Operation\": \"training\", \"Algorithm\": \"Linear Learner\", \"epoch\": 2}, \"StartTime\": 1585775038.292474}\n",
      "\u001b[0m\n",
      "\u001b[34m#metrics {\"Metrics\": {\"train_binary_classification_cross_entropy_objective\": {\"count\": 1, \"max\": 0.007558686108299599, \"sum\": 0.007558686108299599, \"min\": 0.007558686108299599}}, \"EndTime\": 1585775038.29254, \"Dimensions\": {\"model\": 23, \"Host\": \"algo-1\", \"Operation\": \"training\", \"Algorithm\": \"Linear Learner\", \"epoch\": 2}, \"StartTime\": 1585775038.292529}\n",
      "\u001b[0m\n",
      "\u001b[34m#metrics {\"Metrics\": {\"train_binary_classification_cross_entropy_objective\": {\"count\": 1, \"max\": 0.00739930845088702, \"sum\": 0.00739930845088702, \"min\": 0.00739930845088702}}, \"EndTime\": 1585775038.292581, \"Dimensions\": {\"model\": 24, \"Host\": \"algo-1\", \"Operation\": \"training\", \"Algorithm\": \"Linear Learner\", \"epoch\": 2}, \"StartTime\": 1585775038.292567}\n",
      "\u001b[0m\n",
      "\u001b[34m#metrics {\"Metrics\": {\"train_binary_classification_cross_entropy_objective\": {\"count\": 1, \"max\": 0.007026091907664126, \"sum\": 0.007026091907664126, \"min\": 0.007026091907664126}}, \"EndTime\": 1585775038.292647, \"Dimensions\": {\"model\": 25, \"Host\": \"algo-1\", \"Operation\": \"training\", \"Algorithm\": \"Linear Learner\", \"epoch\": 2}, \"StartTime\": 1585775038.292629}\n",
      "\u001b[0m\n",
      "\u001b[34m#metrics {\"Metrics\": {\"train_binary_classification_cross_entropy_objective\": {\"count\": 1, \"max\": 0.007399466862520129, \"sum\": 0.007399466862520129, \"min\": 0.007399466862520129}}, \"EndTime\": 1585775038.292739, \"Dimensions\": {\"model\": 26, \"Host\": \"algo-1\", \"Operation\": \"training\", \"Algorithm\": \"Linear Learner\", \"epoch\": 2}, \"StartTime\": 1585775038.29272}\n",
      "\u001b[0m\n",
      "\u001b[34m#metrics {\"Metrics\": {\"train_binary_classification_cross_entropy_objective\": {\"count\": 1, \"max\": 0.007026328523595309, \"sum\": 0.007026328523595309, \"min\": 0.007026328523595309}}, \"EndTime\": 1585775038.292799, \"Dimensions\": {\"model\": 27, \"Host\": \"algo-1\", \"Operation\": \"training\", \"Algorithm\": \"Linear Learner\", \"epoch\": 2}, \"StartTime\": 1585775038.292782}\n",
      "\u001b[0m\n",
      "\u001b[34m#metrics {\"Metrics\": {\"train_binary_classification_cross_entropy_objective\": {\"count\": 1, \"max\": 0.007054205334959776, \"sum\": 0.007054205334959776, \"min\": 0.007054205334959776}}, \"EndTime\": 1585775038.29285, \"Dimensions\": {\"model\": 28, \"Host\": \"algo-1\", \"Operation\": \"training\", \"Algorithm\": \"Linear Learner\", \"epoch\": 2}, \"StartTime\": 1585775038.292833}\n",
      "\u001b[0m\n",
      "\u001b[34m#metrics {\"Metrics\": {\"train_binary_classification_cross_entropy_objective\": {\"count\": 1, \"max\": 0.007345261012384282, \"sum\": 0.007345261012384282, \"min\": 0.007345261012384282}}, \"EndTime\": 1585775038.292907, \"Dimensions\": {\"model\": 29, \"Host\": \"algo-1\", \"Operation\": \"training\", \"Algorithm\": \"Linear Learner\", \"epoch\": 2}, \"StartTime\": 1585775038.292891}\n",
      "\u001b[0m\n",
      "\u001b[34m#metrics {\"Metrics\": {\"train_binary_classification_cross_entropy_objective\": {\"count\": 1, \"max\": 0.007054358917370627, \"sum\": 0.007054358917370627, \"min\": 0.007054358917370627}}, \"EndTime\": 1585775038.292978, \"Dimensions\": {\"model\": 30, \"Host\": \"algo-1\", \"Operation\": \"training\", \"Algorithm\": \"Linear Learner\", \"epoch\": 2}, \"StartTime\": 1585775038.29296}\n",
      "\u001b[0m\n",
      "\u001b[34m#metrics {\"Metrics\": {\"train_binary_classification_cross_entropy_objective\": {\"count\": 1, \"max\": 0.0073458201595649275, \"sum\": 0.0073458201595649275, \"min\": 0.0073458201595649275}}, \"EndTime\": 1585775038.293047, \"Dimensions\": {\"model\": 31, \"Host\": \"algo-1\", \"Operation\": \"training\", \"Algorithm\": \"Linear Learner\", \"epoch\": 2}, \"StartTime\": 1585775038.29303}\n",
      "\u001b[0m\n",
      "\u001b[34m[04/01/2020 21:03:58 INFO 139768273004352] #quality_metric: host=algo-1, epoch=2, train binary_classification_cross_entropy_objective <loss>=0.00689902727734\u001b[0m\n",
      "\u001b[34m[04/01/2020 21:03:58 INFO 139768273004352] #early_stopping_criteria_metric: host=algo-1, epoch=2, criteria=binary_classification_cross_entropy_objective, value=0.00665514592845\u001b[0m\n",
      "\u001b[34m[04/01/2020 21:03:58 INFO 139768273004352] Epoch 2: Loss improved. Updating best model\u001b[0m\n",
      "\u001b[34m[04/01/2020 21:03:58 INFO 139768273004352] #progress_metric: host=algo-1, completed 60 % of epochs\u001b[0m\n",
      "\u001b[34m#metrics {\"Metrics\": {\"Max Batches Seen Between Resets\": {\"count\": 1, \"max\": 874, \"sum\": 874.0, \"min\": 874}, \"Number of Batches Since Last Reset\": {\"count\": 1, \"max\": 874, \"sum\": 874.0, \"min\": 874}, \"Number of Records Since Last Reset\": {\"count\": 1, \"max\": 87307, \"sum\": 87307.0, \"min\": 87307}, \"Total Batches Seen\": {\"count\": 1, \"max\": 2724, \"sum\": 2724.0, \"min\": 2724}, \"Total Records Seen\": {\"count\": 1, \"max\": 272121, \"sum\": 272121.0, \"min\": 272121}, \"Max Records Seen Between Resets\": {\"count\": 1, \"max\": 87307, \"sum\": 87307.0, \"min\": 87307}, \"Reset Count\": {\"count\": 1, \"max\": 5, \"sum\": 5.0, \"min\": 5}}, \"EndTime\": 1585775038.295602, \"Dimensions\": {\"Host\": \"algo-1\", \"Meta\": \"training_data_iter\", \"Operation\": \"training\", \"Algorithm\": \"Linear Learner\", \"epoch\": 2}, \"StartTime\": 1585775014.240429}\n",
      "\u001b[0m\n",
      "\u001b[34m[04/01/2020 21:03:58 INFO 139768273004352] #throughput_metric: host=algo-1, train throughput=3629.43231142 records/second\u001b[0m\n"
     ]
    },
    {
     "name": "stdout",
     "output_type": "stream",
     "text": [
      "\u001b[34m[2020-04-01 21:04:22.590] [tensorio] [info] epoch_stats={\"data_pipeline\": \"/opt/ml/input/data/train\", \"epoch\": 9, \"duration\": 24294, \"num_examples\": 874, \"num_bytes\": 6984560}\u001b[0m\n",
      "\u001b[34m#metrics {\"Metrics\": {\"train_binary_classification_cross_entropy_objective\": {\"count\": 1, \"max\": 0.006705609260965459, \"sum\": 0.006705609260965459, \"min\": 0.006705609260965459}}, \"EndTime\": 1585775062.591087, \"Dimensions\": {\"model\": 0, \"Host\": \"algo-1\", \"Operation\": \"training\", \"Algorithm\": \"Linear Learner\", \"epoch\": 3}, \"StartTime\": 1585775062.590997}\n",
      "\u001b[0m\n",
      "\u001b[34m#metrics {\"Metrics\": {\"train_binary_classification_cross_entropy_objective\": {\"count\": 1, \"max\": 0.006608174191137087, \"sum\": 0.006608174191137087, \"min\": 0.006608174191137087}}, \"EndTime\": 1585775062.591186, \"Dimensions\": {\"model\": 1, \"Host\": \"algo-1\", \"Operation\": \"training\", \"Algorithm\": \"Linear Learner\", \"epoch\": 3}, \"StartTime\": 1585775062.591166}\n",
      "\u001b[0m\n",
      "\u001b[34m#metrics {\"Metrics\": {\"train_binary_classification_cross_entropy_objective\": {\"count\": 1, \"max\": 0.006705351406014935, \"sum\": 0.006705351406014935, \"min\": 0.006705351406014935}}, \"EndTime\": 1585775062.591253, \"Dimensions\": {\"model\": 2, \"Host\": \"algo-1\", \"Operation\": \"training\", \"Algorithm\": \"Linear Learner\", \"epoch\": 3}, \"StartTime\": 1585775062.591235}\n",
      "\u001b[0m\n",
      "\u001b[34m#metrics {\"Metrics\": {\"train_binary_classification_cross_entropy_objective\": {\"count\": 1, \"max\": 0.00661092016013832, \"sum\": 0.00661092016013832, \"min\": 0.00661092016013832}}, \"EndTime\": 1585775062.591318, \"Dimensions\": {\"model\": 3, \"Host\": \"algo-1\", \"Operation\": \"training\", \"Algorithm\": \"Linear Learner\", \"epoch\": 3}, \"StartTime\": 1585775062.5913}\n",
      "\u001b[0m\n",
      "\u001b[34m#metrics {\"Metrics\": {\"train_binary_classification_cross_entropy_objective\": {\"count\": 1, \"max\": 0.006939718846492, \"sum\": 0.006939718846492, \"min\": 0.006939718846492}}, \"EndTime\": 1585775062.591376, \"Dimensions\": {\"model\": 4, \"Host\": \"algo-1\", \"Operation\": \"training\", \"Algorithm\": \"Linear Learner\", \"epoch\": 3}, \"StartTime\": 1585775062.591359}\n",
      "\u001b[0m\n",
      "\u001b[34m#metrics {\"Metrics\": {\"train_binary_classification_cross_entropy_objective\": {\"count\": 1, \"max\": 0.009945226442118822, \"sum\": 0.009945226442118822, \"min\": 0.009945226442118822}}, \"EndTime\": 1585775062.591421, \"Dimensions\": {\"model\": 5, \"Host\": \"algo-1\", \"Operation\": \"training\", \"Algorithm\": \"Linear Learner\", \"epoch\": 3}, \"StartTime\": 1585775062.591406}\n",
      "\u001b[0m\n",
      "\u001b[34m#metrics {\"Metrics\": {\"train_binary_classification_cross_entropy_objective\": {\"count\": 1, \"max\": 0.006941106362185118, \"sum\": 0.006941106362185118, \"min\": 0.006941106362185118}}, \"EndTime\": 1585775062.591485, \"Dimensions\": {\"model\": 6, \"Host\": \"algo-1\", \"Operation\": \"training\", \"Algorithm\": \"Linear Learner\", \"epoch\": 3}, \"StartTime\": 1585775062.591468}\n",
      "\u001b[0m\n",
      "\u001b[34m#metrics {\"Metrics\": {\"train_binary_classification_cross_entropy_objective\": {\"count\": 1, \"max\": 0.010364295721565078, \"sum\": 0.010364295721565078, \"min\": 0.010364295721565078}}, \"EndTime\": 1585775062.591539, \"Dimensions\": {\"model\": 7, \"Host\": \"algo-1\", \"Operation\": \"training\", \"Algorithm\": \"Linear Learner\", \"epoch\": 3}, \"StartTime\": 1585775062.591523}\n",
      "\u001b[0m\n",
      "\u001b[34m#metrics {\"Metrics\": {\"train_binary_classification_cross_entropy_objective\": {\"count\": 1, \"max\": 0.006746408319589336, \"sum\": 0.006746408319589336, \"min\": 0.006746408319589336}}, \"EndTime\": 1585775062.591593, \"Dimensions\": {\"model\": 8, \"Host\": \"algo-1\", \"Operation\": \"training\", \"Algorithm\": \"Linear Learner\", \"epoch\": 3}, \"StartTime\": 1585775062.591577}\n",
      "\u001b[0m\n",
      "\u001b[34m#metrics {\"Metrics\": {\"train_binary_classification_cross_entropy_objective\": {\"count\": 1, \"max\": 0.006643761606185024, \"sum\": 0.006643761606185024, \"min\": 0.006643761606185024}}, \"EndTime\": 1585775062.591652, \"Dimensions\": {\"model\": 9, \"Host\": \"algo-1\", \"Operation\": \"training\", \"Algorithm\": \"Linear Learner\", \"epoch\": 3}, \"StartTime\": 1585775062.591635}\n",
      "\u001b[0m\n",
      "\u001b[34m#metrics {\"Metrics\": {\"train_binary_classification_cross_entropy_objective\": {\"count\": 1, \"max\": 0.0067467187165804335, \"sum\": 0.0067467187165804335, \"min\": 0.0067467187165804335}}, \"EndTime\": 1585775062.591701, \"Dimensions\": {\"model\": 10, \"Host\": \"algo-1\", \"Operation\": \"training\", \"Algorithm\": \"Linear Learner\", \"epoch\": 3}, \"StartTime\": 1585775062.591687}\n",
      "\u001b[0m\n",
      "\u001b[34m#metrics {\"Metrics\": {\"train_binary_classification_cross_entropy_objective\": {\"count\": 1, \"max\": 0.006643556500150302, \"sum\": 0.006643556500150302, \"min\": 0.006643556500150302}}, \"EndTime\": 1585775062.591768, \"Dimensions\": {\"model\": 11, \"Host\": \"algo-1\", \"Operation\": \"training\", \"Algorithm\": \"Linear Learner\", \"epoch\": 3}, \"StartTime\": 1585775062.591751}\n",
      "\u001b[0m\n",
      "\u001b[34m#metrics {\"Metrics\": {\"train_binary_classification_cross_entropy_objective\": {\"count\": 1, \"max\": 0.00684705370680812, \"sum\": 0.00684705370680812, \"min\": 0.00684705370680812}}, \"EndTime\": 1585775062.591822, \"Dimensions\": {\"model\": 12, \"Host\": \"algo-1\", \"Operation\": \"training\", \"Algorithm\": \"Linear Learner\", \"epoch\": 3}, \"StartTime\": 1585775062.591811}\n",
      "\u001b[0m\n",
      "\u001b[34m#metrics {\"Metrics\": {\"train_binary_classification_cross_entropy_objective\": {\"count\": 1, \"max\": 0.009133790088324078, \"sum\": 0.009133790088324078, \"min\": 0.009133790088324078}}, \"EndTime\": 1585775062.591857, \"Dimensions\": {\"model\": 13, \"Host\": \"algo-1\", \"Operation\": \"training\", \"Algorithm\": \"Linear Learner\", \"epoch\": 3}, \"StartTime\": 1585775062.591845}\n",
      "\u001b[0m\n",
      "\u001b[34m#metrics {\"Metrics\": {\"train_binary_classification_cross_entropy_objective\": {\"count\": 1, \"max\": 0.006847188458537932, \"sum\": 0.006847188458537932, \"min\": 0.006847188458537932}}, \"EndTime\": 1585775062.59191, \"Dimensions\": {\"model\": 14, \"Host\": \"algo-1\", \"Operation\": \"training\", \"Algorithm\": \"Linear Learner\", \"epoch\": 3}, \"StartTime\": 1585775062.591894}\n",
      "\u001b[0m\n",
      "\u001b[34m#metrics {\"Metrics\": {\"train_binary_classification_cross_entropy_objective\": {\"count\": 1, \"max\": 0.009137148035288535, \"sum\": 0.009137148035288535, \"min\": 0.009137148035288535}}, \"EndTime\": 1585775062.591967, \"Dimensions\": {\"model\": 15, \"Host\": \"algo-1\", \"Operation\": \"training\", \"Algorithm\": \"Linear Learner\", \"epoch\": 3}, \"StartTime\": 1585775062.591952}\n",
      "\u001b[0m\n",
      "\u001b[34m#metrics {\"Metrics\": {\"train_binary_classification_cross_entropy_objective\": {\"count\": 1, \"max\": 0.007219658737398368, \"sum\": 0.007219658737398368, \"min\": 0.007219658737398368}}, \"EndTime\": 1585775062.592027, \"Dimensions\": {\"model\": 16, \"Host\": \"algo-1\", \"Operation\": \"training\", \"Algorithm\": \"Linear Learner\", \"epoch\": 3}, \"StartTime\": 1585775062.59201}\n",
      "\u001b[0m\n",
      "\u001b[34m#metrics {\"Metrics\": {\"train_binary_classification_cross_entropy_objective\": {\"count\": 1, \"max\": 0.007002337376532686, \"sum\": 0.007002337376532686, \"min\": 0.007002337376532686}}, \"EndTime\": 1585775062.592091, \"Dimensions\": {\"model\": 17, \"Host\": \"algo-1\", \"Operation\": \"training\", \"Algorithm\": \"Linear Learner\", \"epoch\": 3}, \"StartTime\": 1585775062.592074}\n",
      "\u001b[0m\n",
      "\u001b[34m#metrics {\"Metrics\": {\"train_binary_classification_cross_entropy_objective\": {\"count\": 1, \"max\": 0.007220032571005248, \"sum\": 0.007220032571005248, \"min\": 0.007220032571005248}}, \"EndTime\": 1585775062.592153, \"Dimensions\": {\"model\": 18, \"Host\": \"algo-1\", \"Operation\": \"training\", \"Algorithm\": \"Linear Learner\", \"epoch\": 3}, \"StartTime\": 1585775062.592136}\n",
      "\u001b[0m\n",
      "\u001b[34m#metrics {\"Metrics\": {\"train_binary_classification_cross_entropy_objective\": {\"count\": 1, \"max\": 0.007002336760088886, \"sum\": 0.007002336760088886, \"min\": 0.007002336760088886}}, \"EndTime\": 1585775062.592211, \"Dimensions\": {\"model\": 19, \"Host\": \"algo-1\", \"Operation\": \"training\", \"Algorithm\": \"Linear Learner\", \"epoch\": 3}, \"StartTime\": 1585775062.592195}\n",
      "\u001b[0m\n",
      "\u001b[34m#metrics {\"Metrics\": {\"train_binary_classification_cross_entropy_objective\": {\"count\": 1, \"max\": 0.007018129985442413, \"sum\": 0.007018129985442413, \"min\": 0.007018129985442413}}, \"EndTime\": 1585775062.592269, \"Dimensions\": {\"model\": 20, \"Host\": \"algo-1\", \"Operation\": \"training\", \"Algorithm\": \"Linear Learner\", \"epoch\": 3}, \"StartTime\": 1585775062.592252}\n",
      "\u001b[0m\n",
      "\u001b[34m#metrics {\"Metrics\": {\"train_binary_classification_cross_entropy_objective\": {\"count\": 1, \"max\": 0.007619612264673077, \"sum\": 0.007619612264673077, \"min\": 0.007619612264673077}}, \"EndTime\": 1585775062.592331, \"Dimensions\": {\"model\": 21, \"Host\": \"algo-1\", \"Operation\": \"training\", \"Algorithm\": \"Linear Learner\", \"epoch\": 3}, \"StartTime\": 1585775062.592314}\n",
      "\u001b[0m\n",
      "\u001b[34m#metrics {\"Metrics\": {\"train_binary_classification_cross_entropy_objective\": {\"count\": 1, \"max\": 0.007018101613238915, \"sum\": 0.007018101613238915, \"min\": 0.007018101613238915}}, \"EndTime\": 1585775062.592381, \"Dimensions\": {\"model\": 22, \"Host\": \"algo-1\", \"Operation\": \"training\", \"Algorithm\": \"Linear Learner\", \"epoch\": 3}, \"StartTime\": 1585775062.592365}\n",
      "\u001b[0m\n",
      "\u001b[34m#metrics {\"Metrics\": {\"train_binary_classification_cross_entropy_objective\": {\"count\": 1, \"max\": 0.007621076467824632, \"sum\": 0.007621076467824632, \"min\": 0.007621076467824632}}, \"EndTime\": 1585775062.592436, \"Dimensions\": {\"model\": 23, \"Host\": \"algo-1\", \"Operation\": \"training\", \"Algorithm\": \"Linear Learner\", \"epoch\": 3}, \"StartTime\": 1585775062.59242}\n",
      "\u001b[0m\n",
      "\u001b[34m#metrics {\"Metrics\": {\"train_binary_classification_cross_entropy_objective\": {\"count\": 1, \"max\": 0.007246628838067475, \"sum\": 0.007246628838067475, \"min\": 0.007246628838067475}}, \"EndTime\": 1585775062.592489, \"Dimensions\": {\"model\": 24, \"Host\": \"algo-1\", \"Operation\": \"training\", \"Algorithm\": \"Linear Learner\", \"epoch\": 3}, \"StartTime\": 1585775062.592474}\n",
      "\u001b[0m\n",
      "\u001b[34m#metrics {\"Metrics\": {\"train_binary_classification_cross_entropy_objective\": {\"count\": 1, \"max\": 0.00701281118271755, \"sum\": 0.00701281118271755, \"min\": 0.00701281118271755}}, \"EndTime\": 1585775062.592545, \"Dimensions\": {\"model\": 25, \"Host\": \"algo-1\", \"Operation\": \"training\", \"Algorithm\": \"Linear Learner\", \"epoch\": 3}, \"StartTime\": 1585775062.592528}\n",
      "\u001b[0m\n",
      "\u001b[34m#metrics {\"Metrics\": {\"train_binary_classification_cross_entropy_objective\": {\"count\": 1, \"max\": 0.007246814199807581, \"sum\": 0.007246814199807581, \"min\": 0.007246814199807581}}, \"EndTime\": 1585775062.592601, \"Dimensions\": {\"model\": 26, \"Host\": \"algo-1\", \"Operation\": \"training\", \"Algorithm\": \"Linear Learner\", \"epoch\": 3}, \"StartTime\": 1585775062.592585}\n",
      "\u001b[0m\n",
      "\u001b[34m#metrics {\"Metrics\": {\"train_binary_classification_cross_entropy_objective\": {\"count\": 1, \"max\": 0.0070131946685387915, \"sum\": 0.0070131946685387915, \"min\": 0.0070131946685387915}}, \"EndTime\": 1585775062.592652, \"Dimensions\": {\"model\": 27, \"Host\": \"algo-1\", \"Operation\": \"training\", \"Algorithm\": \"Linear Learner\", \"epoch\": 3}, \"StartTime\": 1585775062.592637}\n",
      "\u001b[0m\n",
      "\u001b[34m#metrics {\"Metrics\": {\"train_binary_classification_cross_entropy_objective\": {\"count\": 1, \"max\": 0.007036429075236173, \"sum\": 0.007036429075236173, \"min\": 0.007036429075236173}}, \"EndTime\": 1585775062.592742, \"Dimensions\": {\"model\": 28, \"Host\": \"algo-1\", \"Operation\": \"training\", \"Algorithm\": \"Linear Learner\", \"epoch\": 3}, \"StartTime\": 1585775062.592723}\n",
      "\u001b[0m\n",
      "\u001b[34m#metrics {\"Metrics\": {\"train_binary_classification_cross_entropy_objective\": {\"count\": 1, \"max\": 0.007441280791856015, \"sum\": 0.007441280791856015, \"min\": 0.007441280791856015}}, \"EndTime\": 1585775062.592796, \"Dimensions\": {\"model\": 29, \"Host\": \"algo-1\", \"Operation\": \"training\", \"Algorithm\": \"Linear Learner\", \"epoch\": 3}, \"StartTime\": 1585775062.592785}\n",
      "\u001b[0m\n",
      "\u001b[34m#metrics {\"Metrics\": {\"train_binary_classification_cross_entropy_objective\": {\"count\": 1, \"max\": 0.007036194237800398, \"sum\": 0.007036194237800398, \"min\": 0.007036194237800398}}, \"EndTime\": 1585775062.592857, \"Dimensions\": {\"model\": 30, \"Host\": \"algo-1\", \"Operation\": \"training\", \"Algorithm\": \"Linear Learner\", \"epoch\": 3}, \"StartTime\": 1585775062.59284}\n",
      "\u001b[0m\n",
      "\u001b[34m#metrics {\"Metrics\": {\"train_binary_classification_cross_entropy_objective\": {\"count\": 1, \"max\": 0.0074405454173588105, \"sum\": 0.0074405454173588105, \"min\": 0.0074405454173588105}}, \"EndTime\": 1585775062.592919, \"Dimensions\": {\"model\": 31, \"Host\": \"algo-1\", \"Operation\": \"training\", \"Algorithm\": \"Linear Learner\", \"epoch\": 3}, \"StartTime\": 1585775062.592902}\n",
      "\u001b[0m\n",
      "\u001b[34m[04/01/2020 21:04:22 INFO 139768273004352] #quality_metric: host=algo-1, epoch=3, train binary_classification_cross_entropy_objective <loss>=0.00670560926097\u001b[0m\n",
      "\u001b[34m[04/01/2020 21:04:22 INFO 139768273004352] #early_stopping_criteria_metric: host=algo-1, epoch=3, criteria=binary_classification_cross_entropy_objective, value=0.00660817419114\u001b[0m\n",
      "\u001b[34m[04/01/2020 21:04:22 INFO 139768273004352] Epoch 3: Loss improved. Updating best model\u001b[0m\n",
      "\u001b[34m[04/01/2020 21:04:22 INFO 139768273004352] #progress_metric: host=algo-1, completed 80 % of epochs\u001b[0m\n",
      "\u001b[34m#metrics {\"Metrics\": {\"Max Batches Seen Between Resets\": {\"count\": 1, \"max\": 874, \"sum\": 874.0, \"min\": 874}, \"Number of Batches Since Last Reset\": {\"count\": 1, \"max\": 874, \"sum\": 874.0, \"min\": 874}, \"Number of Records Since Last Reset\": {\"count\": 1, \"max\": 87307, \"sum\": 87307.0, \"min\": 87307}, \"Total Batches Seen\": {\"count\": 1, \"max\": 3598, \"sum\": 3598.0, \"min\": 3598}, \"Total Records Seen\": {\"count\": 1, \"max\": 359428, \"sum\": 359428.0, \"min\": 359428}, \"Max Records Seen Between Resets\": {\"count\": 1, \"max\": 87307, \"sum\": 87307.0, \"min\": 87307}, \"Reset Count\": {\"count\": 1, \"max\": 6, \"sum\": 6.0, \"min\": 6}}, \"EndTime\": 1585775062.595793, \"Dimensions\": {\"Host\": \"algo-1\", \"Meta\": \"training_data_iter\", \"Operation\": \"training\", \"Algorithm\": \"Linear Learner\", \"epoch\": 3}, \"StartTime\": 1585775038.296133}\n",
      "\u001b[0m\n",
      "\u001b[34m[04/01/2020 21:04:22 INFO 139768273004352] #throughput_metric: host=algo-1, train throughput=3592.91186326 records/second\u001b[0m\n"
     ]
    },
    {
     "name": "stdout",
     "output_type": "stream",
     "text": [
      "\u001b[34m[2020-04-01 21:04:46.720] [tensorio] [info] epoch_stats={\"data_pipeline\": \"/opt/ml/input/data/train\", \"epoch\": 11, \"duration\": 24123, \"num_examples\": 874, \"num_bytes\": 6984560}\u001b[0m\n",
      "\u001b[34m#metrics {\"Metrics\": {\"train_binary_classification_cross_entropy_objective\": {\"count\": 1, \"max\": 0.006626934986753562, \"sum\": 0.006626934986753562, \"min\": 0.006626934986753562}}, \"EndTime\": 1585775086.720523, \"Dimensions\": {\"model\": 0, \"Host\": \"algo-1\", \"Operation\": \"training\", \"Algorithm\": \"Linear Learner\", \"epoch\": 4}, \"StartTime\": 1585775086.720443}\n",
      "\u001b[0m\n",
      "\u001b[34m#metrics {\"Metrics\": {\"train_binary_classification_cross_entropy_objective\": {\"count\": 1, \"max\": 0.006592760900929485, \"sum\": 0.006592760900929485, \"min\": 0.006592760900929485}}, \"EndTime\": 1585775086.720586, \"Dimensions\": {\"model\": 1, \"Host\": \"algo-1\", \"Operation\": \"training\", \"Algorithm\": \"Linear Learner\", \"epoch\": 4}, \"StartTime\": 1585775086.720574}\n",
      "\u001b[0m\n",
      "\u001b[34m#metrics {\"Metrics\": {\"train_binary_classification_cross_entropy_objective\": {\"count\": 1, \"max\": 0.006626013951271534, \"sum\": 0.006626013951271534, \"min\": 0.006626013951271534}}, \"EndTime\": 1585775086.720634, \"Dimensions\": {\"model\": 2, \"Host\": \"algo-1\", \"Operation\": \"training\", \"Algorithm\": \"Linear Learner\", \"epoch\": 4}, \"StartTime\": 1585775086.720619}\n",
      "\u001b[0m\n",
      "\u001b[34m#metrics {\"Metrics\": {\"train_binary_classification_cross_entropy_objective\": {\"count\": 1, \"max\": 0.0065908688839358565, \"sum\": 0.0065908688839358565, \"min\": 0.0065908688839358565}}, \"EndTime\": 1585775086.720715, \"Dimensions\": {\"model\": 3, \"Host\": \"algo-1\", \"Operation\": \"training\", \"Algorithm\": \"Linear Learner\", \"epoch\": 4}, \"StartTime\": 1585775086.720673}\n",
      "\u001b[0m\n",
      "\u001b[34m#metrics {\"Metrics\": {\"train_binary_classification_cross_entropy_objective\": {\"count\": 1, \"max\": 0.0066031177781462535, \"sum\": 0.0066031177781462535, \"min\": 0.0066031177781462535}}, \"EndTime\": 1585775086.720781, \"Dimensions\": {\"model\": 4, \"Host\": \"algo-1\", \"Operation\": \"training\", \"Algorithm\": \"Linear Learner\", \"epoch\": 4}, \"StartTime\": 1585775086.720768}\n",
      "\u001b[0m\n",
      "\u001b[34m#metrics {\"Metrics\": {\"train_binary_classification_cross_entropy_objective\": {\"count\": 1, \"max\": 0.009727288918767178, \"sum\": 0.009727288918767178, \"min\": 0.009727288918767178}}, \"EndTime\": 1585775086.720831, \"Dimensions\": {\"model\": 5, \"Host\": \"algo-1\", \"Operation\": \"training\", \"Algorithm\": \"Linear Learner\", \"epoch\": 4}, \"StartTime\": 1585775086.720816}\n",
      "\u001b[0m\n",
      "\u001b[34m#metrics {\"Metrics\": {\"train_binary_classification_cross_entropy_objective\": {\"count\": 1, \"max\": 0.006600908306421966, \"sum\": 0.006600908306421966, \"min\": 0.006600908306421966}}, \"EndTime\": 1585775086.720896, \"Dimensions\": {\"model\": 6, \"Host\": \"algo-1\", \"Operation\": \"training\", \"Algorithm\": \"Linear Learner\", \"epoch\": 4}, \"StartTime\": 1585775086.720879}\n",
      "\u001b[0m\n",
      "\u001b[34m#metrics {\"Metrics\": {\"train_binary_classification_cross_entropy_objective\": {\"count\": 1, \"max\": 0.010278975480268918, \"sum\": 0.010278975480268918, \"min\": 0.010278975480268918}}, \"EndTime\": 1585775086.720956, \"Dimensions\": {\"model\": 7, \"Host\": \"algo-1\", \"Operation\": \"training\", \"Algorithm\": \"Linear Learner\", \"epoch\": 4}, \"StartTime\": 1585775086.720939}\n",
      "\u001b[0m\n",
      "\u001b[34m#metrics {\"Metrics\": {\"train_binary_classification_cross_entropy_objective\": {\"count\": 1, \"max\": 0.00666969852110228, \"sum\": 0.00666969852110228, \"min\": 0.00666969852110228}}, \"EndTime\": 1585775086.721006, \"Dimensions\": {\"model\": 8, \"Host\": \"algo-1\", \"Operation\": \"training\", \"Algorithm\": \"Linear Learner\", \"epoch\": 4}, \"StartTime\": 1585775086.72099}\n",
      "\u001b[0m\n",
      "\u001b[34m#metrics {\"Metrics\": {\"train_binary_classification_cross_entropy_objective\": {\"count\": 1, \"max\": 0.006627450281538641, \"sum\": 0.006627450281538641, \"min\": 0.006627450281538641}}, \"EndTime\": 1585775086.721062, \"Dimensions\": {\"model\": 9, \"Host\": \"algo-1\", \"Operation\": \"training\", \"Algorithm\": \"Linear Learner\", \"epoch\": 4}, \"StartTime\": 1585775086.721046}\n",
      "\u001b[0m\n",
      "\u001b[34m#metrics {\"Metrics\": {\"train_binary_classification_cross_entropy_objective\": {\"count\": 1, \"max\": 0.006669327692136185, \"sum\": 0.006669327692136185, \"min\": 0.006669327692136185}}, \"EndTime\": 1585775086.721124, \"Dimensions\": {\"model\": 10, \"Host\": \"algo-1\", \"Operation\": \"training\", \"Algorithm\": \"Linear Learner\", \"epoch\": 4}, \"StartTime\": 1585775086.721108}\n",
      "\u001b[0m\n",
      "\u001b[34m#metrics {\"Metrics\": {\"train_binary_classification_cross_entropy_objective\": {\"count\": 1, \"max\": 0.0066272889118628815, \"sum\": 0.0066272889118628815, \"min\": 0.0066272889118628815}}, \"EndTime\": 1585775086.721179, \"Dimensions\": {\"model\": 11, \"Host\": \"algo-1\", \"Operation\": \"training\", \"Algorithm\": \"Linear Learner\", \"epoch\": 4}, \"StartTime\": 1585775086.721163}\n",
      "\u001b[0m\n",
      "\u001b[34m#metrics {\"Metrics\": {\"train_binary_classification_cross_entropy_objective\": {\"count\": 1, \"max\": 0.006574494995236533, \"sum\": 0.006574494995236533, \"min\": 0.006574494995236533}}, \"EndTime\": 1585775086.721252, \"Dimensions\": {\"model\": 12, \"Host\": \"algo-1\", \"Operation\": \"training\", \"Algorithm\": \"Linear Learner\", \"epoch\": 4}, \"StartTime\": 1585775086.721235}\n",
      "\u001b[0m\n",
      "\u001b[34m#metrics {\"Metrics\": {\"train_binary_classification_cross_entropy_objective\": {\"count\": 1, \"max\": 0.009064519497282422, \"sum\": 0.009064519497282422, \"min\": 0.009064519497282422}}, \"EndTime\": 1585775086.721315, \"Dimensions\": {\"model\": 13, \"Host\": \"algo-1\", \"Operation\": \"training\", \"Algorithm\": \"Linear Learner\", \"epoch\": 4}, \"StartTime\": 1585775086.721298}\n",
      "\u001b[0m\n",
      "\u001b[34m#metrics {\"Metrics\": {\"train_binary_classification_cross_entropy_objective\": {\"count\": 1, \"max\": 0.006574515755558205, \"sum\": 0.006574515755558205, \"min\": 0.006574515755558205}}, \"EndTime\": 1585775086.721372, \"Dimensions\": {\"model\": 14, \"Host\": \"algo-1\", \"Operation\": \"training\", \"Algorithm\": \"Linear Learner\", \"epoch\": 4}, \"StartTime\": 1585775086.721356}\n",
      "\u001b[0m\n",
      "\u001b[34m#metrics {\"Metrics\": {\"train_binary_classification_cross_entropy_objective\": {\"count\": 1, \"max\": 0.00906683394599643, \"sum\": 0.00906683394599643, \"min\": 0.00906683394599643}}, \"EndTime\": 1585775086.721429, \"Dimensions\": {\"model\": 15, \"Host\": \"algo-1\", \"Operation\": \"training\", \"Algorithm\": \"Linear Learner\", \"epoch\": 4}, \"StartTime\": 1585775086.721413}\n",
      "\u001b[0m\n",
      "\u001b[34m#metrics {\"Metrics\": {\"train_binary_classification_cross_entropy_objective\": {\"count\": 1, \"max\": 0.007160017607991774, \"sum\": 0.007160017607991774, \"min\": 0.007160017607991774}}, \"EndTime\": 1585775086.721487, \"Dimensions\": {\"model\": 16, \"Host\": \"algo-1\", \"Operation\": \"training\", \"Algorithm\": \"Linear Learner\", \"epoch\": 4}, \"StartTime\": 1585775086.72147}\n",
      "\u001b[0m\n",
      "\u001b[34m#metrics {\"Metrics\": {\"train_binary_classification_cross_entropy_objective\": {\"count\": 1, \"max\": 0.007006880980228231, \"sum\": 0.007006880980228231, \"min\": 0.007006880980228231}}, \"EndTime\": 1585775086.721555, \"Dimensions\": {\"model\": 17, \"Host\": \"algo-1\", \"Operation\": \"training\", \"Algorithm\": \"Linear Learner\", \"epoch\": 4}, \"StartTime\": 1585775086.721537}\n",
      "\u001b[0m\n",
      "\u001b[34m#metrics {\"Metrics\": {\"train_binary_classification_cross_entropy_objective\": {\"count\": 1, \"max\": 0.007159688931389499, \"sum\": 0.007159688931389499, \"min\": 0.007159688931389499}}, \"EndTime\": 1585775086.721614, \"Dimensions\": {\"model\": 18, \"Host\": \"algo-1\", \"Operation\": \"training\", \"Algorithm\": \"Linear Learner\", \"epoch\": 4}, \"StartTime\": 1585775086.721598}\n",
      "\u001b[0m\n",
      "\u001b[34m#metrics {\"Metrics\": {\"train_binary_classification_cross_entropy_objective\": {\"count\": 1, \"max\": 0.007006882750274526, \"sum\": 0.007006882750274526, \"min\": 0.007006882750274526}}, \"EndTime\": 1585775086.721673, \"Dimensions\": {\"model\": 19, \"Host\": \"algo-1\", \"Operation\": \"training\", \"Algorithm\": \"Linear Learner\", \"epoch\": 4}, \"StartTime\": 1585775086.721656}\n",
      "\u001b[0m\n",
      "\u001b[34m#metrics {\"Metrics\": {\"train_binary_classification_cross_entropy_objective\": {\"count\": 1, \"max\": 0.007013620603722941, \"sum\": 0.007013620603722941, \"min\": 0.007013620603722941}}, \"EndTime\": 1585775086.721734, \"Dimensions\": {\"model\": 20, \"Host\": \"algo-1\", \"Operation\": \"training\", \"Algorithm\": \"Linear Learner\", \"epoch\": 4}, \"StartTime\": 1585775086.721717}\n",
      "\u001b[0m\n",
      "\u001b[34m#metrics {\"Metrics\": {\"train_binary_classification_cross_entropy_objective\": {\"count\": 1, \"max\": 0.007647456913719216, \"sum\": 0.007647456913719216, \"min\": 0.007647456913719216}}, \"EndTime\": 1585775086.721792, \"Dimensions\": {\"model\": 21, \"Host\": \"algo-1\", \"Operation\": \"training\", \"Algorithm\": \"Linear Learner\", \"epoch\": 4}, \"StartTime\": 1585775086.721775}\n",
      "\u001b[0m\n",
      "\u001b[34m#metrics {\"Metrics\": {\"train_binary_classification_cross_entropy_objective\": {\"count\": 1, \"max\": 0.00701360245972428, \"sum\": 0.00701360245972428, \"min\": 0.00701360245972428}}, \"EndTime\": 1585775086.721853, \"Dimensions\": {\"model\": 22, \"Host\": \"algo-1\", \"Operation\": \"training\", \"Algorithm\": \"Linear Learner\", \"epoch\": 4}, \"StartTime\": 1585775086.721836}\n",
      "\u001b[0m\n",
      "\u001b[34m#metrics {\"Metrics\": {\"train_binary_classification_cross_entropy_objective\": {\"count\": 1, \"max\": 0.007648587765994632, \"sum\": 0.007648587765994632, \"min\": 0.007648587765994632}}, \"EndTime\": 1585775086.721912, \"Dimensions\": {\"model\": 23, \"Host\": \"algo-1\", \"Operation\": \"training\", \"Algorithm\": \"Linear Learner\", \"epoch\": 4}, \"StartTime\": 1585775086.721895}\n",
      "\u001b[0m\n",
      "\u001b[34m#metrics {\"Metrics\": {\"train_binary_classification_cross_entropy_objective\": {\"count\": 1, \"max\": 0.007186508452154927, \"sum\": 0.007186508452154927, \"min\": 0.007186508452154927}}, \"EndTime\": 1585775086.721979, \"Dimensions\": {\"model\": 24, \"Host\": \"algo-1\", \"Operation\": \"training\", \"Algorithm\": \"Linear Learner\", \"epoch\": 4}, \"StartTime\": 1585775086.721962}\n",
      "\u001b[0m\n",
      "\u001b[34m#metrics {\"Metrics\": {\"train_binary_classification_cross_entropy_objective\": {\"count\": 1, \"max\": 0.0070167727956179215, \"sum\": 0.0070167727956179215, \"min\": 0.0070167727956179215}}, \"EndTime\": 1585775086.722045, \"Dimensions\": {\"model\": 25, \"Host\": \"algo-1\", \"Operation\": \"training\", \"Algorithm\": \"Linear Learner\", \"epoch\": 4}, \"StartTime\": 1585775086.722027}\n",
      "\u001b[0m\n",
      "\u001b[34m#metrics {\"Metrics\": {\"train_binary_classification_cross_entropy_objective\": {\"count\": 1, \"max\": 0.0071857292939912, \"sum\": 0.0071857292939912, \"min\": 0.0071857292939912}}, \"EndTime\": 1585775086.722114, \"Dimensions\": {\"model\": 26, \"Host\": \"algo-1\", \"Operation\": \"training\", \"Algorithm\": \"Linear Learner\", \"epoch\": 4}, \"StartTime\": 1585775086.722096}\n",
      "\u001b[0m\n",
      "\u001b[34m#metrics {\"Metrics\": {\"train_binary_classification_cross_entropy_objective\": {\"count\": 1, \"max\": 0.007017096464798486, \"sum\": 0.007017096464798486, \"min\": 0.007017096464798486}}, \"EndTime\": 1585775086.722173, \"Dimensions\": {\"model\": 27, \"Host\": \"algo-1\", \"Operation\": \"training\", \"Algorithm\": \"Linear Learner\", \"epoch\": 4}, \"StartTime\": 1585775086.722157}\n",
      "\u001b[0m\n",
      "\u001b[34m#metrics {\"Metrics\": {\"train_binary_classification_cross_entropy_objective\": {\"count\": 1, \"max\": 0.007022984308731515, \"sum\": 0.007022984308731515, \"min\": 0.007022984308731515}}, \"EndTime\": 1585775086.722231, \"Dimensions\": {\"model\": 28, \"Host\": \"algo-1\", \"Operation\": \"training\", \"Algorithm\": \"Linear Learner\", \"epoch\": 4}, \"StartTime\": 1585775086.722214}\n",
      "\u001b[0m\n",
      "\u001b[34m#metrics {\"Metrics\": {\"train_binary_classification_cross_entropy_objective\": {\"count\": 1, \"max\": 0.007504526464367778, \"sum\": 0.007504526464367778, \"min\": 0.007504526464367778}}, \"EndTime\": 1585775086.722298, \"Dimensions\": {\"model\": 29, \"Host\": \"algo-1\", \"Operation\": \"training\", \"Algorithm\": \"Linear Learner\", \"epoch\": 4}, \"StartTime\": 1585775086.72228}\n",
      "\u001b[0m\n",
      "\u001b[34m#metrics {\"Metrics\": {\"train_binary_classification_cross_entropy_objective\": {\"count\": 1, \"max\": 0.007023159519076894, \"sum\": 0.007023159519076894, \"min\": 0.007023159519076894}}, \"EndTime\": 1585775086.722365, \"Dimensions\": {\"model\": 30, \"Host\": \"algo-1\", \"Operation\": \"training\", \"Algorithm\": \"Linear Learner\", \"epoch\": 4}, \"StartTime\": 1585775086.722347}\n",
      "\u001b[0m\n",
      "\u001b[34m#metrics {\"Metrics\": {\"train_binary_classification_cross_entropy_objective\": {\"count\": 1, \"max\": 0.0075038546278116906, \"sum\": 0.0075038546278116906, \"min\": 0.0075038546278116906}}, \"EndTime\": 1585775086.722428, \"Dimensions\": {\"model\": 31, \"Host\": \"algo-1\", \"Operation\": \"training\", \"Algorithm\": \"Linear Learner\", \"epoch\": 4}, \"StartTime\": 1585775086.722411}\n",
      "\u001b[0m\n",
      "\u001b[34m[04/01/2020 21:04:46 INFO 139768273004352] #quality_metric: host=algo-1, epoch=4, train binary_classification_cross_entropy_objective <loss>=0.00662693498675\u001b[0m\n",
      "\u001b[34m[04/01/2020 21:04:46 INFO 139768273004352] #early_stopping_criteria_metric: host=algo-1, epoch=4, criteria=binary_classification_cross_entropy_objective, value=0.00657449499524\u001b[0m\n",
      "\u001b[34m[04/01/2020 21:04:46 INFO 139768273004352] Epoch 4: Loss improved. Updating best model\u001b[0m\n",
      "\u001b[34m[04/01/2020 21:04:46 INFO 139768273004352] #progress_metric: host=algo-1, completed 100 % of epochs\u001b[0m\n",
      "\u001b[34m#metrics {\"Metrics\": {\"Max Batches Seen Between Resets\": {\"count\": 1, \"max\": 874, \"sum\": 874.0, \"min\": 874}, \"Number of Batches Since Last Reset\": {\"count\": 1, \"max\": 874, \"sum\": 874.0, \"min\": 874}, \"Number of Records Since Last Reset\": {\"count\": 1, \"max\": 87307, \"sum\": 87307.0, \"min\": 87307}, \"Total Batches Seen\": {\"count\": 1, \"max\": 4472, \"sum\": 4472.0, \"min\": 4472}, \"Total Records Seen\": {\"count\": 1, \"max\": 446735, \"sum\": 446735.0, \"min\": 446735}, \"Max Records Seen Between Resets\": {\"count\": 1, \"max\": 87307, \"sum\": 87307.0, \"min\": 87307}, \"Reset Count\": {\"count\": 1, \"max\": 7, \"sum\": 7.0, \"min\": 7}}, \"EndTime\": 1585775086.725034, \"Dimensions\": {\"Host\": \"algo-1\", \"Meta\": \"training_data_iter\", \"Operation\": \"training\", \"Algorithm\": \"Linear Learner\", \"epoch\": 4}, \"StartTime\": 1585775062.59647}\n",
      "\u001b[0m\n",
      "\u001b[34m[04/01/2020 21:04:46 INFO 139768273004352] #throughput_metric: host=algo-1, train throughput=3618.38745019 records/second\u001b[0m\n",
      "\u001b[34m[04/01/2020 21:04:46 WARNING 139768273004352] wait_for_all_workers will not sync workers since the kv store is not running distributed\u001b[0m\n",
      "\u001b[34m[04/01/2020 21:04:46 WARNING 139768273004352] wait_for_all_workers will not sync workers since the kv store is not running distributed\u001b[0m\n",
      "\u001b[34m[2020-04-01 21:04:46.726] [tensorio] [info] epoch_stats={\"data_pipeline\": \"/opt/ml/input/data/train\", \"epoch\": 13, \"duration\": 0, \"num_examples\": 1, \"num_bytes\": 8000}\u001b[0m\n",
      "\u001b[34m[2020-04-01 21:04:48.175] [tensorio] [info] epoch_stats={\"data_pipeline\": \"/opt/ml/input/data/train\", \"epoch\": 16, \"duration\": 1446, \"num_examples\": 874, \"num_bytes\": 6984560}\u001b[0m\n",
      "\u001b[34m[2020-04-01 21:04:50.424] [tensorio] [info] epoch_stats={\"data_pipeline\": \"/opt/ml/input/data/train\", \"epoch\": 18, \"duration\": 2207, \"num_examples\": 874, \"num_bytes\": 6984560}\u001b[0m\n",
      "\u001b[34m[04/01/2020 21:04:50 INFO 139768273004352] #train_score (algo-1) : ('binary_classification_cross_entropy_objective', 0.0064712930105992935)\u001b[0m\n",
      "\u001b[34m[04/01/2020 21:04:50 INFO 139768273004352] #train_score (algo-1) : ('binary_classification_accuracy', 0.9991295085159265)\u001b[0m\n",
      "\u001b[34m[04/01/2020 21:04:50 INFO 139768273004352] #train_score (algo-1) : ('binary_f_1.000', 0.05)\u001b[0m\n",
      "\u001b[34m[04/01/2020 21:04:50 INFO 139768273004352] #train_score (algo-1) : ('precision', 0.5)\u001b[0m\n",
      "\u001b[34m[04/01/2020 21:04:50 INFO 139768273004352] #train_score (algo-1) : ('recall', 0.02631578947368421)\u001b[0m\n",
      "\u001b[34m[04/01/2020 21:04:50 INFO 139768273004352] #quality_metric: host=algo-1, train binary_classification_cross_entropy_objective <loss>=0.0064712930106\u001b[0m\n",
      "\u001b[34m[04/01/2020 21:04:50 INFO 139768273004352] #quality_metric: host=algo-1, train binary_classification_accuracy <score>=0.999129508516\u001b[0m\n",
      "\u001b[34m[04/01/2020 21:04:50 INFO 139768273004352] #quality_metric: host=algo-1, train binary_f_1.000 <score>=0.05\u001b[0m\n",
      "\u001b[34m[04/01/2020 21:04:50 INFO 139768273004352] #quality_metric: host=algo-1, train precision <score>=0.5\u001b[0m\n",
      "\u001b[34m[04/01/2020 21:04:50 INFO 139768273004352] #quality_metric: host=algo-1, train recall <score>=0.0263157894737\u001b[0m\n",
      "\u001b[34m[04/01/2020 21:04:50 INFO 139768273004352] Best model found for hyperparameters: {\"lr_scheduler_step\": 10, \"wd\": 0.01, \"optimizer\": \"adam\", \"lr_scheduler_factor\": 0.99, \"l1\": 0.0, \"learning_rate\": 0.1, \"lr_scheduler_minimum_lr\": 1e-05}\u001b[0m\n",
      "\u001b[34m[04/01/2020 21:04:50 INFO 139768273004352] Saved checkpoint to \"/tmp/tmpcIG21G/mx-mod-0000.params\"\u001b[0m\n",
      "\u001b[34m[04/01/2020 21:04:50 INFO 139768273004352] Test data is not provided.\u001b[0m\n",
      "\u001b[34m#metrics {\"Metrics\": {\"totaltime\": {\"count\": 1, \"max\": 125349.42984580994, \"sum\": 125349.42984580994, \"min\": 125349.42984580994}, \"finalize.time\": {\"count\": 1, \"max\": 3701.1990547180176, \"sum\": 3701.1990547180176, \"min\": 3701.1990547180176}, \"initialize.time\": {\"count\": 1, \"max\": 317.37494468688965, \"sum\": 317.37494468688965, \"min\": 317.37494468688965}, \"check_early_stopping.time\": {\"count\": 5, \"max\": 0.9810924530029297, \"sum\": 4.123926162719727, \"min\": 0.7469654083251953}, \"setuptime\": {\"count\": 1, \"max\": 24.296998977661133, \"sum\": 24.296998977661133, \"min\": 24.296998977661133}, \"update.time\": {\"count\": 5, \"max\": 24435.676097869873, \"sum\": 121238.59429359436, \"min\": 24055.018186569214}, \"epochs\": {\"count\": 1, \"max\": 5, \"sum\": 5.0, \"min\": 5}}, \"EndTime\": 1585775090.4352, \"Dimensions\": {\"Host\": \"algo-1\", \"Operation\": \"training\", \"Algorithm\": \"Linear Learner\"}, \"StartTime\": 1585774965.163709}\n",
      "\u001b[0m\n"
     ]
    },
    {
     "name": "stdout",
     "output_type": "stream",
     "text": [
      "\n",
      "2020-04-01 21:05:01 Uploading - Uploading generated training model\n",
      "2020-04-01 21:05:01 Completed - Training job completed\n",
      "Training seconds: 182\n",
      "Billable seconds: 182\n"
     ]
    }
   ],
   "source": [
    "# Create the estimator\n",
    "container = get_image_uri(boto3.Session().region_name, 'linear-learner')\n",
    "linear = sagemaker.estimator.Estimator(container,\n",
    "                                       role, \n",
    "                                       train_instance_count=1, \n",
    "                                       train_instance_type='ml.c4.xlarge',\n",
    "                                       output_path=output_location,\n",
    "                                       sagemaker_session=session)\n",
    "\n",
    "# Set the hyper parameters\n",
    "linear.set_hyperparameters(feature_dim=9,\n",
    "                           predictor_type='binary_classifier',\n",
    "                           epochs=5,\n",
    "                           mini_batch_size=100)\n",
    "\n",
    "linear.fit({'train': s3_train_data})"
   ]
  },
  {
   "cell_type": "code",
   "execution_count": 23,
   "metadata": {},
   "outputs": [
    {
     "name": "stdout",
     "output_type": "stream",
     "text": [
      "---------------!"
     ]
    }
   ],
   "source": [
    "# Set up model hosting\n",
    "linear_predictor = linear.deploy(initial_instance_count=1,\n",
    "                                 instance_type='ml.m4.xlarge')"
   ]
  },
  {
   "cell_type": "markdown",
   "metadata": {},
   "source": [
    "## Validate the Model for Use"
   ]
  },
  {
   "cell_type": "markdown",
   "metadata": {},
   "source": [
    "Now I will use the test data set to evaluate the performance of the model."
   ]
  },
  {
   "cell_type": "code",
   "execution_count": 24,
   "metadata": {},
   "outputs": [
    {
     "name": "stdout",
     "output_type": "stream",
     "text": [
      "Single Sample Result:\n",
      "{'predictions': [{'score': 0.000736593792680651, 'predicted_label': 0.0}]}\n",
      "Actual Label:  0.0\n",
      "\n",
      "\n"
     ]
    }
   ],
   "source": [
    "linear_predictor.content_type = 'text/csv'\n",
    "linear_predictor.serializer = csv_serializer\n",
    "linear_predictor.deserializer = json_deserializer\n",
    "test_vectors = np.array(test_set).astype('float32')\n",
    "\n",
    "\n",
    "# Test a single result from the test set\n",
    "result = linear_predictor.predict(test_vectors[100][1:10])\n",
    "\n",
    "print('Single Sample Result:')\n",
    "print(result)\n",
    "print('Actual Label: ', test_vectors[100][0])\n",
    "print('\\n')\n"
   ]
  },
  {
   "cell_type": "code",
   "execution_count": 25,
   "metadata": {},
   "outputs": [
    {
     "name": "stdout",
     "output_type": "stream",
     "text": [
      "Correct:  372\n",
      "False Negative:  0\n",
      "False Positive:  0\n",
      "Percentage Correct:  1.0\n",
      "\n",
      "\n",
      "Sample:\n",
      "{'score': 0.0007307236664928496, 'predicted _label': 0.0, 'actual_label': 0.0}\n",
      "{'score': 0.0007497306796722114, 'predicted _label': 0.0, 'actual_label': 0.0}\n",
      "{'score': 0.0007181710680015385, 'predicted _label': 0.0, 'actual_label': 0.0}\n",
      "{'score': 0.0007279320852831006, 'predicted _label': 0.0, 'actual_label': 0.0}\n",
      "{'score': 0.0007261269493028522, 'predicted _label': 0.0, 'actual_label': 0.0}\n",
      "{'score': 0.0007275052485056221, 'predicted _label': 0.0, 'actual_label': 0.0}\n",
      "{'score': 0.0007394915446639061, 'predicted _label': 0.0, 'actual_label': 0.0}\n",
      "{'score': 0.000706617662217468, 'predicted _label': 0.0, 'actual_label': 0.0}\n",
      "{'score': 0.0007491861470043659, 'predicted _label': 0.0, 'actual_label': 0.0}\n",
      "{'score': 0.0007288011838681996, 'predicted _label': 0.0, 'actual_label': 0.0}\n"
     ]
    }
   ],
   "source": [
    "\n",
    "batch_size = 100\n",
    "np.random.shuffle(test_vectors)\n",
    "arrays = np.array_split(test_vectors[1:], batch_size)\n",
    "results = []\n",
    "\n",
    "# Make the preditions\n",
    "for array in arrays[0]:\n",
    "    counter = 0\n",
    "    result_dict = {}\n",
    "    result = linear_predictor.predict(array[1:10])\n",
    "    prediction = result['predictions'][0]\n",
    "    result_dict['score'] = prediction.get('score')\n",
    "    result_dict['predicted _label'] = prediction.get('predicted_label')\n",
    "    result_dict['actual_label'] = test_vectors[counter][0]\n",
    "    results.append(result_dict)\n",
    "\n",
    "# Summarize the results\n",
    "correct = 0\n",
    "false_positive = 0\n",
    "false_negative = 0\n",
    "\n",
    "for r in results:\n",
    "    pred = r.get('predicted _label')\n",
    "    actual = r['actual_label']\n",
    "    if pred == actual:\n",
    "        correct +=1\n",
    "    elif pred < actual:\n",
    "        false_negative += 1\n",
    "    else:\n",
    "        false_positive += 1\n",
    "print('Correct: ', correct)\n",
    "print('False Negative: ', false_negative)\n",
    "print('False Positive: ', false_positive)\n",
    "\n",
    "errors = false_positive + false_negative\n",
    "total = correct + errors\n",
    "rate = correct/total\n",
    "\n",
    "print('Percentage Correct: ', rate)\n",
    "print('\\n')\n",
    "\n",
    "print(\"Sample:\")\n",
    "for r in results[:10]:\n",
    "    print(r)"
   ]
  },
  {
   "cell_type": "markdown",
   "metadata": {},
   "source": [
    "### Clean Up"
   ]
  },
  {
   "cell_type": "code",
   "execution_count": 26,
   "metadata": {},
   "outputs": [],
   "source": [
    "sagemaker.Session().delete_endpoint(linear_predictor.endpoint)"
   ]
  },
  {
   "cell_type": "code",
   "execution_count": null,
   "metadata": {},
   "outputs": [],
   "source": []
  }
 ],
 "metadata": {
  "kernelspec": {
   "display_name": "conda_python3",
   "language": "python",
   "name": "conda_python3"
  },
  "language_info": {
   "codemirror_mode": {
    "name": "ipython",
    "version": 3
   },
   "file_extension": ".py",
   "mimetype": "text/x-python",
   "name": "python",
   "nbconvert_exporter": "python",
   "pygments_lexer": "ipython3",
   "version": "3.6.5"
  }
 },
 "nbformat": 4,
 "nbformat_minor": 4
}
